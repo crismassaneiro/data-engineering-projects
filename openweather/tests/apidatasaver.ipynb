{
 "cells": [
  {
   "cell_type": "code",
   "execution_count": 3,
   "metadata": {},
   "outputs": [
    {
     "ename": "TypeError",
     "evalue": "ApiDataSaver.saving_at_s3() missing 1 required positional argument: 'weather_json_string'",
     "output_type": "error",
     "traceback": [
      "\u001b[1;31m---------------------------------------------------------------------------\u001b[0m",
      "\u001b[1;31mTypeError\u001b[0m                                 Traceback (most recent call last)",
      "Cell \u001b[1;32mIn[3], line 46\u001b[0m\n\u001b[0;32m     44\u001b[0m \u001b[38;5;66;03m# Exemplo de uso\u001b[39;00m\n\u001b[0;32m     45\u001b[0m api_data_saver \u001b[38;5;241m=\u001b[39m ApiDataSaver()\n\u001b[1;32m---> 46\u001b[0m \u001b[43mapi_data_saver\u001b[49m\u001b[38;5;241;43m.\u001b[39;49m\u001b[43msaving_at_s3\u001b[49m\u001b[43m(\u001b[49m\u001b[43m)\u001b[49m\n",
      "\u001b[1;31mTypeError\u001b[0m: ApiDataSaver.saving_at_s3() missing 1 required positional argument: 'weather_json_string'"
     ]
    }
   ],
   "source": [
    "         "
   ]
  },
  {
   "cell_type": "code",
   "execution_count": 1,
   "metadata": {},
   "outputs": [],
   "source": [
    "import os\n",
    "import json\n",
    "import boto3\n",
    "import requests"
   ]
  },
  {
   "cell_type": "code",
   "execution_count": 12,
   "metadata": {},
   "outputs": [],
   "source": [
    "profile_name='CRISTIAN_AWS'\n",
    "region_name='us-east-1'\n",
    "\n",
    "\n",
    "client = boto3.session.Session(profile_name=profile_name).client('secretsmanager', region_name)\n",
    "response = client.get_secret_value(SecretId='env/openweather')\n",
    "secret_data = response['SecretString']\n",
    "secrets_dict = json.loads(secret_data)\n",
    "open_weather_token = secrets_dict.get('OPEN_WEATHER_SECRET', '')\n",
    "API_LINK = f\"https://api.openweathermap.org/data/2.5/weather?q=novo hamburgo,br&APPID={open_weather_token}\""
   ]
  },
  {
   "cell_type": "code",
   "execution_count": 13,
   "metadata": {},
   "outputs": [],
   "source": [
    "requisicao = requests.get(API_LINK)\n",
    "wheater_json = requisicao.json()\n",
    "weather_json_string = json.dumps(wheater_json)"
   ]
  },
  {
   "cell_type": "code",
   "execution_count": 16,
   "metadata": {},
   "outputs": [
    {
     "name": "stdout",
     "output_type": "stream",
     "text": [
      "Arquivo salvo em: data-integration-projects/openweather-data-lake/raw-data/2024/01/12/weather_data_2024-01-12-22-34-09.json\n"
     ]
    }
   ],
   "source": [
    "s3 = boto3.session.Session(profile_name=profile_name).client('s3')\n",
    "bucket_name = 'data-integration-projects'\n",
    "directory_path = 'openweather-data-lake/raw-data/'\n",
    "current_date = datetime.now()\n",
    "dia_da_execucao = current_date.strftime('%Y-%m-%d-%H-%M-%S')\n",
    "year = str(current_date.year)\n",
    "month = str(current_date.month).zfill(2)  # Adicionar zero à esquerda se necessário\n",
    "day = str(current_date.day).zfill(2)  # Adicionar zero à esquerda se necessário\n",
    "directory_path = f'{directory_path}{year}/{month}/{day}/'\n",
    "file_name = f'weather_data_{dia_da_execucao}.json'\n",
    "s3.put_object(Bucket=bucket_name, Key=directory_path + file_name, Body=weather_json_string)\n",
    "print(f'Arquivo salvo em: {bucket_name}/{directory_path}{file_name}')"
   ]
  }
 ],
 "metadata": {
  "kernelspec": {
   "display_name": "kernel_tests",
   "language": "python",
   "name": "python3"
  },
  "language_info": {
   "codemirror_mode": {
    "name": "ipython",
    "version": 3
   },
   "file_extension": ".py",
   "mimetype": "text/x-python",
   "name": "python",
   "nbconvert_exporter": "python",
   "pygments_lexer": "ipython3",
   "version": "3.12.1"
  }
 },
 "nbformat": 4,
 "nbformat_minor": 2
}
