{
 "cells": [
  {
   "cell_type": "code",
   "execution_count": null,
   "metadata": {},
   "outputs": [],
   "source": [
    "## Another way to impor from S3\n",
    "\n",
    "\n",
    "import s3fs\n",
    "profile_name = 'CRISTIAN_AWS'\n",
    "s3 = boto3.session.Session(profile_name=profile_name).client('s3')\n",
    "bucket_name = 'data-integration-projects'\n",
    "directory_path = 'openweather-data-lake/raw-data/'\n",
    "fs = s3fs.S3FileSystem()\n",
    "\n",
    "# Obtenha a lista de objetos no diretório especificado\n",
    "response = s3.list_objects_v2(Bucket=bucket_name, Prefix=directory_path)\n",
    "s3_clientdata = None\n",
    "s3_list = []\n",
    "# Verifique se há objetos no diretório\n",
    "if 'Contents' in response:\n",
    "    for obj in response['Contents']:\n",
    "        if obj[\"Size\"] != 0:\n",
    "            path = \"s3://data-integration-projects/\" + obj['Key']\n",
    "            print(path)\n",
    "            with fs.open(path, 'rb') as f:\n",
    "                s3_clientdata = json.load(f)\n",
    "        s3_list.append(s3_clientdata)\n",
    "            \n",
    "df = pd.json_normalize(s3_list)"
   ]
  },
  {
   "cell_type": "code",
   "execution_count": null,
   "metadata": {},
   "outputs": [],
   "source": [
    "### Another way to save data\n",
    "\n",
    "# Defina suas credenciais explicitamente (não recomendado)\n",
    "profile_name = 'CRISTIAN_AWS'\n",
    "s3 = boto3.session.Session(profile_name=profile_name).client('s3')\n",
    "bucket_name = 'data-integration-projects'\n",
    "directory_path = 'openweather-data-lake/raw-data/'\n",
    "dia_da_exucucao = datetime.now().strftime('%Y-%m-%d-%H-%M-%S')\n",
    "file_name = f'weather_data_{dia_da_exucucao}.json'\n",
    "s3.put_object(Bucket=bucket_name, Key=directory_path + file_name, Body=weather_json_string)"
   ]
  },
  {
   "cell_type": "code",
   "execution_count": null,
   "metadata": {},
   "outputs": [],
   "source": [
    "profile_name = 'CRISTIAN_AWS'\n",
    "\n",
    "# Configuração do cliente S3\n",
    "s3 = boto3.session.Session(profile_name=profile_name)\n",
    "# Substitua 'seu-bucket' e 'seu-arquivo' pelos valores reais\n",
    "bucket_name = 'data-integration-projects/openweather-data-lake/raw-data'\n",
    "# Leitura dos dados JSON do S3 usando o awswrangler\n",
    "df = wr.s3.read_json(f's3://{bucket_name}/*', lines=True, boto3_session = s3)"
   ]
  }
 ],
 "metadata": {
  "language_info": {
   "name": "python"
  }
 },
 "nbformat": 4,
 "nbformat_minor": 2
}
