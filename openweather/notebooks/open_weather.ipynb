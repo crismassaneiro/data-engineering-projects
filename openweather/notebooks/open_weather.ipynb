{
 "cells": [
  {
   "cell_type": "code",
   "execution_count": 1,
   "metadata": {},
   "outputs": [],
   "source": [
    "import os\n",
    "import json\n",
    "import boto3\n",
    "import requests\n",
    "import pandas as pd\n",
    "import pyarrow as pa\n",
    "import awswrangler as wr\n",
    "import pyarrow.parquet as pq\n",
    "\n",
    "from io import BytesIO\n",
    "from datetime import datetime\n",
    "from botocore.exceptions import NoCredentialsError"
   ]
  },
  {
   "cell_type": "code",
   "execution_count": 2,
   "metadata": {},
   "outputs": [],
   "source": [
    "# Criar um cliente para o AWS Secrets Manager com base no perfil\n",
    "client = boto3.session.Session(profile_name='CRISTIAN_AWS').client('secretsmanager', region_name='us-east-1')\n",
    "\n",
    "# Recuperar o segredo\n",
    "response = client.get_secret_value(SecretId='env/openweather')\n",
    "secret_data = response['SecretString']\n",
    "\n",
    "# Analisar o conteúdo do segredo (assumindo que é um formato JSON)\n",
    "secrets_dict = json.loads(secret_data)\n",
    "\n",
    "# Obtenha o valor associado à chave 'OPEN_WEATHER_SECRECT'\n",
    "open_weather_token = secrets_dict.get('OPEN_WEATHER_SECRECT', '')"
   ]
  },
  {
   "cell_type": "code",
   "execution_count": 3,
   "metadata": {},
   "outputs": [],
   "source": [
    "API_LINK = f\"https://api.openweathermap.org/data/2.5/weather?q=novo hamburgo,br&APPID={open_weather_token}\""
   ]
  },
  {
   "cell_type": "code",
   "execution_count": 4,
   "metadata": {},
   "outputs": [],
   "source": [
    "requisicao = requests.get(API_LINK)"
   ]
  },
  {
   "cell_type": "code",
   "execution_count": 5,
   "metadata": {},
   "outputs": [],
   "source": [
    "wheater_json = requisicao.json()"
   ]
  },
  {
   "cell_type": "code",
   "execution_count": 6,
   "metadata": {},
   "outputs": [
    {
     "data": {
      "text/plain": [
       "{'coord': {'lon': -51.1306, 'lat': -29.6783},\n",
       " 'weather': [{'id': 803,\n",
       "   'main': 'Clouds',\n",
       "   'description': 'broken clouds',\n",
       "   'icon': '04d'}],\n",
       " 'base': 'stations',\n",
       " 'main': {'temp': 301.19,\n",
       "  'feels_like': 303.01,\n",
       "  'temp_min': 300.77,\n",
       "  'temp_max': 301.97,\n",
       "  'pressure': 1013,\n",
       "  'humidity': 63,\n",
       "  'sea_level': 1013,\n",
       "  'grnd_level': 1009},\n",
       " 'visibility': 10000,\n",
       " 'wind': {'speed': 3.72, 'deg': 121, 'gust': 6.01},\n",
       " 'clouds': {'all': 66},\n",
       " 'dt': 1704394236,\n",
       " 'sys': {'type': 2,\n",
       "  'id': 2020383,\n",
       "  'country': 'BR',\n",
       "  'sunrise': 1704356966,\n",
       "  'sunset': 1704407320},\n",
       " 'timezone': -10800,\n",
       " 'id': 3456068,\n",
       " 'name': 'Novo Hamburgo',\n",
       " 'cod': 200}"
      ]
     },
     "execution_count": 6,
     "metadata": {},
     "output_type": "execute_result"
    }
   ],
   "source": [
    "wheater_json"
   ]
  },
  {
   "cell_type": "code",
   "execution_count": 7,
   "metadata": {},
   "outputs": [],
   "source": [
    "# Convertendo o dicionário Python para uma string JSON\n",
    "weather_json_string = json.dumps(wheater_json)"
   ]
  },
  {
   "cell_type": "code",
   "execution_count": 8,
   "metadata": {},
   "outputs": [
    {
     "data": {
      "text/plain": [
       "'{\"coord\": {\"lon\": -51.1306, \"lat\": -29.6783}, \"weather\": [{\"id\": 803, \"main\": \"Clouds\", \"description\": \"broken clouds\", \"icon\": \"04d\"}], \"base\": \"stations\", \"main\": {\"temp\": 301.19, \"feels_like\": 303.01, \"temp_min\": 300.77, \"temp_max\": 301.97, \"pressure\": 1013, \"humidity\": 63, \"sea_level\": 1013, \"grnd_level\": 1009}, \"visibility\": 10000, \"wind\": {\"speed\": 3.72, \"deg\": 121, \"gust\": 6.01}, \"clouds\": {\"all\": 66}, \"dt\": 1704394236, \"sys\": {\"type\": 2, \"id\": 2020383, \"country\": \"BR\", \"sunrise\": 1704356966, \"sunset\": 1704407320}, \"timezone\": -10800, \"id\": 3456068, \"name\": \"Novo Hamburgo\", \"cod\": 200}'"
      ]
     },
     "execution_count": 8,
     "metadata": {},
     "output_type": "execute_result"
    }
   ],
   "source": [
    "weather_json_string"
   ]
  },
  {
   "cell_type": "markdown",
   "metadata": {},
   "source": [
    "Save raw JSON at Data-lake"
   ]
  },
  {
   "cell_type": "code",
   "execution_count": null,
   "metadata": {},
   "outputs": [],
   "source": [
    "test = {\"coord\": {\"lon\": -51.1306, \"lat\": -29.6783}, \"weather\": [{\"id\": 801, \"main\": \"Clouds\", \"description\": \"few clouds\", \"icon\": \"02n\"}], \"base\": \"stations\", \"main\": {\"temp\": 293.48, \"feels_like\": 293.79, \"temp_min\": 293.34, \"temp_max\": 294.33, \"pressure\": 1013, \"humidity\": 85, \"sea_level\": 1013, \"grnd_level\": 1009}, \"visibility\": 10000, \"wind\": {\"speed\": 1.51, \"deg\": 88, \"gust\": 4.18}, \"clouds\": {\"all\": 16}, \"dt\": 1704344172, \"sys\": {\"type\": 2, \"id\": 2020383, \"country\": \"BR\", \"sunrise\": 1704356966, \"sunset\": 1704407320}, \"timezone\": -10800, \"id\": 3456068, \"name\": \"Novo Hamburgo\", \"cod\": 200}"
   ]
  },
  {
   "cell_type": "code",
   "execution_count": null,
   "metadata": {},
   "outputs": [],
   "source": [
    "test"
   ]
  },
  {
   "cell_type": "code",
   "execution_count": 11,
   "metadata": {},
   "outputs": [
    {
     "data": {
      "text/plain": [
       "Session(region_name='us-east-1')"
      ]
     },
     "execution_count": 11,
     "metadata": {},
     "output_type": "execute_result"
    }
   ],
   "source": [
    "s3"
   ]
  },
  {
   "cell_type": "code",
   "execution_count": 16,
   "metadata": {},
   "outputs": [],
   "source": [
    "profile_name = 'CRISTIAN_AWS'\n",
    "\n",
    "# Configuração do cliente S3\n",
    "s3 = boto3.session.Session(profile_name=profile_name)\n",
    "# Substitua 'seu-bucket' e 'seu-arquivo' pelos valores reais\n",
    "bucket_name = 'data-integration-projects/openweather-data-lake/raw-data'\n",
    "# Leitura dos dados JSON do S3 usando o awswrangler\n",
    "df = wr.s3.read_json(f's3://{bucket_name}/*', lines=True, boto3_session = s3)\n"
   ]
  },
  {
   "cell_type": "code",
   "execution_count": 17,
   "metadata": {},
   "outputs": [
    {
     "data": {
      "text/html": [
       "<div>\n",
       "<style scoped>\n",
       "    .dataframe tbody tr th:only-of-type {\n",
       "        vertical-align: middle;\n",
       "    }\n",
       "\n",
       "    .dataframe tbody tr th {\n",
       "        vertical-align: top;\n",
       "    }\n",
       "\n",
       "    .dataframe thead th {\n",
       "        text-align: right;\n",
       "    }\n",
       "</style>\n",
       "<table border=\"1\" class=\"dataframe\">\n",
       "  <thead>\n",
       "    <tr style=\"text-align: right;\">\n",
       "      <th></th>\n",
       "      <th>coord</th>\n",
       "      <th>weather</th>\n",
       "      <th>base</th>\n",
       "      <th>main</th>\n",
       "      <th>visibility</th>\n",
       "      <th>wind</th>\n",
       "      <th>clouds</th>\n",
       "      <th>dt</th>\n",
       "      <th>sys</th>\n",
       "      <th>timezone</th>\n",
       "      <th>id</th>\n",
       "      <th>name</th>\n",
       "      <th>cod</th>\n",
       "    </tr>\n",
       "  </thead>\n",
       "  <tbody>\n",
       "    <tr>\n",
       "      <th>0</th>\n",
       "      <td>{'lon': -51.1306, 'lat': -29.6783}</td>\n",
       "      <td>[{'id': 801, 'main': 'Clouds', 'description': ...</td>\n",
       "      <td>stations</td>\n",
       "      <td>{'temp': 293.48, 'feels_like': 293.79, 'temp_m...</td>\n",
       "      <td>10000</td>\n",
       "      <td>{'speed': 1.51, 'deg': 88, 'gust': 4.18}</td>\n",
       "      <td>{'all': 16}</td>\n",
       "      <td>1704344172</td>\n",
       "      <td>{'type': 2, 'id': 2020383, 'country': 'BR', 's...</td>\n",
       "      <td>-10800</td>\n",
       "      <td>3456068</td>\n",
       "      <td>Novo Hamburgo</td>\n",
       "      <td>200</td>\n",
       "    </tr>\n",
       "    <tr>\n",
       "      <th>0</th>\n",
       "      <td>{'lon': -51.1306, 'lat': -29.6783}</td>\n",
       "      <td>[{'id': 802, 'main': 'Clouds', 'description': ...</td>\n",
       "      <td>stations</td>\n",
       "      <td>{'temp': 297.41, 'feels_like': 298.01, 'temp_m...</td>\n",
       "      <td>10000</td>\n",
       "      <td>{'speed': 1.99, 'deg': 108, 'gust': 3.2}</td>\n",
       "      <td>{'all': 35}</td>\n",
       "      <td>1704371630</td>\n",
       "      <td>{'type': 2, 'id': 2020383, 'country': 'BR', 's...</td>\n",
       "      <td>-10800</td>\n",
       "      <td>3456068</td>\n",
       "      <td>Novo Hamburgo</td>\n",
       "      <td>200</td>\n",
       "    </tr>\n",
       "    <tr>\n",
       "      <th>0</th>\n",
       "      <td>{'lon': -51.1306, 'lat': -29.6783}</td>\n",
       "      <td>[{'id': 802, 'main': 'Clouds', 'description': ...</td>\n",
       "      <td>stations</td>\n",
       "      <td>{'temp': 298.46, 'feels_like': 299.06, 'temp_m...</td>\n",
       "      <td>10000</td>\n",
       "      <td>{'speed': 1.99, 'deg': 108, 'gust': 3.2}</td>\n",
       "      <td>{'all': 35}</td>\n",
       "      <td>1704373596</td>\n",
       "      <td>{'type': 2, 'id': 2020383, 'country': 'BR', 's...</td>\n",
       "      <td>-10800</td>\n",
       "      <td>3456068</td>\n",
       "      <td>Novo Hamburgo</td>\n",
       "      <td>200</td>\n",
       "    </tr>\n",
       "    <tr>\n",
       "      <th>0</th>\n",
       "      <td>{'lon': -51.1306, 'lat': -29.6783}</td>\n",
       "      <td>[{'id': 802, 'main': 'Clouds', 'description': ...</td>\n",
       "      <td>stations</td>\n",
       "      <td>{'temp': 299.41, 'feels_like': 299.41, 'temp_m...</td>\n",
       "      <td>10000</td>\n",
       "      <td>{'speed': 2.71, 'deg': 122, 'gust': 3.67}</td>\n",
       "      <td>{'all': 46}</td>\n",
       "      <td>1704376514</td>\n",
       "      <td>{'type': 2, 'id': 2020383, 'country': 'BR', 's...</td>\n",
       "      <td>-10800</td>\n",
       "      <td>3456068</td>\n",
       "      <td>Novo Hamburgo</td>\n",
       "      <td>200</td>\n",
       "    </tr>\n",
       "    <tr>\n",
       "      <th>0</th>\n",
       "      <td>{'lon': -51.1306, 'lat': -29.6783}</td>\n",
       "      <td>[{'id': 802, 'main': 'Clouds', 'description': ...</td>\n",
       "      <td>stations</td>\n",
       "      <td>{'temp': 300.13, 'feels_like': 302.05, 'temp_m...</td>\n",
       "      <td>10000</td>\n",
       "      <td>{'speed': 2.71, 'deg': 122, 'gust': 3.67}</td>\n",
       "      <td>{'all': 46}</td>\n",
       "      <td>1704377123</td>\n",
       "      <td>{'type': 2, 'id': 2020383, 'country': 'BR', 's...</td>\n",
       "      <td>-10800</td>\n",
       "      <td>3456068</td>\n",
       "      <td>Novo Hamburgo</td>\n",
       "      <td>200</td>\n",
       "    </tr>\n",
       "    <tr>\n",
       "      <th>0</th>\n",
       "      <td>{'lon': -51.1306, 'lat': -29.6783}</td>\n",
       "      <td>[{'id': 802, 'main': 'Clouds', 'description': ...</td>\n",
       "      <td>stations</td>\n",
       "      <td>{'temp': 300.13, 'feels_like': 302.05, 'temp_m...</td>\n",
       "      <td>10000</td>\n",
       "      <td>{'speed': 2.71, 'deg': 122, 'gust': 3.67}</td>\n",
       "      <td>{'all': 46}</td>\n",
       "      <td>1704377123</td>\n",
       "      <td>{'type': 2, 'id': 2020383, 'country': 'BR', 's...</td>\n",
       "      <td>-10800</td>\n",
       "      <td>3456068</td>\n",
       "      <td>Novo Hamburgo</td>\n",
       "      <td>200</td>\n",
       "    </tr>\n",
       "    <tr>\n",
       "      <th>0</th>\n",
       "      <td>{'lon': -51.1306, 'lat': -29.6783}</td>\n",
       "      <td>[{'id': 802, 'main': 'Clouds', 'description': ...</td>\n",
       "      <td>stations</td>\n",
       "      <td>{'temp': 299.78, 'feels_like': 299.78, 'temp_m...</td>\n",
       "      <td>10000</td>\n",
       "      <td>{'speed': 2.71, 'deg': 122, 'gust': 3.67}</td>\n",
       "      <td>{'all': 46}</td>\n",
       "      <td>1704377714</td>\n",
       "      <td>{'type': 2, 'id': 2020383, 'country': 'BR', 's...</td>\n",
       "      <td>-10800</td>\n",
       "      <td>3456068</td>\n",
       "      <td>Novo Hamburgo</td>\n",
       "      <td>200</td>\n",
       "    </tr>\n",
       "    <tr>\n",
       "      <th>0</th>\n",
       "      <td>{'lon': -51.1306, 'lat': -29.6783}</td>\n",
       "      <td>[{'id': 802, 'main': 'Clouds', 'description': ...</td>\n",
       "      <td>stations</td>\n",
       "      <td>{'temp': 299.78, 'feels_like': 299.78, 'temp_m...</td>\n",
       "      <td>10000</td>\n",
       "      <td>{'speed': 2.71, 'deg': 122, 'gust': 3.67}</td>\n",
       "      <td>{'all': 46}</td>\n",
       "      <td>1704377714</td>\n",
       "      <td>{'type': 2, 'id': 2020383, 'country': 'BR', 's...</td>\n",
       "      <td>-10800</td>\n",
       "      <td>3456068</td>\n",
       "      <td>Novo Hamburgo</td>\n",
       "      <td>200</td>\n",
       "    </tr>\n",
       "    <tr>\n",
       "      <th>0</th>\n",
       "      <td>{'lon': -51.1306, 'lat': -29.6783}</td>\n",
       "      <td>[{'id': 803, 'main': 'Clouds', 'description': ...</td>\n",
       "      <td>stations</td>\n",
       "      <td>{'temp': 300.07, 'feels_like': 301.95, 'temp_m...</td>\n",
       "      <td>10000</td>\n",
       "      <td>{'speed': 3.12, 'deg': 125, 'gust': 3.89}</td>\n",
       "      <td>{'all': 51}</td>\n",
       "      <td>1704380049</td>\n",
       "      <td>{'type': 2, 'id': 2020383, 'country': 'BR', 's...</td>\n",
       "      <td>-10800</td>\n",
       "      <td>3456068</td>\n",
       "      <td>Novo Hamburgo</td>\n",
       "      <td>200</td>\n",
       "    </tr>\n",
       "    <tr>\n",
       "      <th>0</th>\n",
       "      <td>{'lon': -51.1306, 'lat': -29.6783}</td>\n",
       "      <td>[{'id': 803, 'main': 'Clouds', 'description': ...</td>\n",
       "      <td>stations</td>\n",
       "      <td>{'temp': 300.07, 'feels_like': 301.95, 'temp_m...</td>\n",
       "      <td>10000</td>\n",
       "      <td>{'speed': 3.12, 'deg': 125, 'gust': 3.89}</td>\n",
       "      <td>{'all': 51}</td>\n",
       "      <td>1704380049</td>\n",
       "      <td>{'type': 2, 'id': 2020383, 'country': 'BR', 's...</td>\n",
       "      <td>-10800</td>\n",
       "      <td>3456068</td>\n",
       "      <td>Novo Hamburgo</td>\n",
       "      <td>200</td>\n",
       "    </tr>\n",
       "    <tr>\n",
       "      <th>0</th>\n",
       "      <td>{'lon': -51.1306, 'lat': -29.6783}</td>\n",
       "      <td>[{'id': 803, 'main': 'Clouds', 'description': ...</td>\n",
       "      <td>stations</td>\n",
       "      <td>{'temp': 300.43, 'feels_like': 302.58, 'temp_m...</td>\n",
       "      <td>10000</td>\n",
       "      <td>{'speed': 3.12, 'deg': 125, 'gust': 3.89}</td>\n",
       "      <td>{'all': 51}</td>\n",
       "      <td>1704381276</td>\n",
       "      <td>{'type': 2, 'id': 2020383, 'country': 'BR', 's...</td>\n",
       "      <td>-10800</td>\n",
       "      <td>3456068</td>\n",
       "      <td>Novo Hamburgo</td>\n",
       "      <td>200</td>\n",
       "    </tr>\n",
       "    <tr>\n",
       "      <th>0</th>\n",
       "      <td>{'lon': -51.1306, 'lat': -29.6783}</td>\n",
       "      <td>[{'id': 803, 'main': 'Clouds', 'description': ...</td>\n",
       "      <td>stations</td>\n",
       "      <td>{'temp': 300.43, 'feels_like': 302.58, 'temp_m...</td>\n",
       "      <td>10000</td>\n",
       "      <td>{'speed': 3.12, 'deg': 125, 'gust': 3.89}</td>\n",
       "      <td>{'all': 51}</td>\n",
       "      <td>1704381276</td>\n",
       "      <td>{'type': 2, 'id': 2020383, 'country': 'BR', 's...</td>\n",
       "      <td>-10800</td>\n",
       "      <td>3456068</td>\n",
       "      <td>Novo Hamburgo</td>\n",
       "      <td>200</td>\n",
       "    </tr>\n",
       "    <tr>\n",
       "      <th>0</th>\n",
       "      <td>{'lon': -51.1306, 'lat': -29.6783}</td>\n",
       "      <td>[{'id': 803, 'main': 'Clouds', 'description': ...</td>\n",
       "      <td>stations</td>\n",
       "      <td>{'temp': 301.55, 'feels_like': 304.16, 'temp_m...</td>\n",
       "      <td>10000</td>\n",
       "      <td>{'speed': 3.38, 'deg': 121, 'gust': 4.65}</td>\n",
       "      <td>{'all': 56}</td>\n",
       "      <td>1704385389</td>\n",
       "      <td>{'type': 2, 'id': 2020383, 'country': 'BR', 's...</td>\n",
       "      <td>-10800</td>\n",
       "      <td>3456068</td>\n",
       "      <td>Novo Hamburgo</td>\n",
       "      <td>200</td>\n",
       "    </tr>\n",
       "    <tr>\n",
       "      <th>0</th>\n",
       "      <td>{'lon': -51.1306, 'lat': -29.6783}</td>\n",
       "      <td>[{'id': 803, 'main': 'Clouds', 'description': ...</td>\n",
       "      <td>stations</td>\n",
       "      <td>{'temp': 301.93, 'feels_like': 304.57, 'temp_m...</td>\n",
       "      <td>10000</td>\n",
       "      <td>{'speed': 3.52, 'deg': 117, 'gust': 4.85}</td>\n",
       "      <td>{'all': 56}</td>\n",
       "      <td>1704387811</td>\n",
       "      <td>{'type': 2, 'id': 2020383, 'country': 'BR', 's...</td>\n",
       "      <td>-10800</td>\n",
       "      <td>3456068</td>\n",
       "      <td>Novo Hamburgo</td>\n",
       "      <td>200</td>\n",
       "    </tr>\n",
       "    <tr>\n",
       "      <th>0</th>\n",
       "      <td>{'lon': -51.1306, 'lat': -29.6783}</td>\n",
       "      <td>[{'id': 803, 'main': 'Clouds', 'description': ...</td>\n",
       "      <td>stations</td>\n",
       "      <td>{'temp': 301.96, 'feels_like': 303.87, 'temp_m...</td>\n",
       "      <td>10000</td>\n",
       "      <td>{'speed': 3.74, 'deg': 119, 'gust': 5.57}</td>\n",
       "      <td>{'all': 58}</td>\n",
       "      <td>1704392693</td>\n",
       "      <td>{'type': 2, 'id': 2020383, 'country': 'BR', 's...</td>\n",
       "      <td>-10800</td>\n",
       "      <td>3456068</td>\n",
       "      <td>Novo Hamburgo</td>\n",
       "      <td>200</td>\n",
       "    </tr>\n",
       "    <tr>\n",
       "      <th>0</th>\n",
       "      <td>{'lon': -51.1306, 'lat': -29.6783}</td>\n",
       "      <td>[{'id': 803, 'main': 'Clouds', 'description': ...</td>\n",
       "      <td>stations</td>\n",
       "      <td>{'temp': 301.19, 'feels_like': 303.01, 'temp_m...</td>\n",
       "      <td>10000</td>\n",
       "      <td>{'speed': 3.7199999999999998, 'deg': 121, 'gus...</td>\n",
       "      <td>{'all': 66}</td>\n",
       "      <td>1704394236</td>\n",
       "      <td>{'type': 2, 'id': 2020383, 'country': 'BR', 's...</td>\n",
       "      <td>-10800</td>\n",
       "      <td>3456068</td>\n",
       "      <td>Novo Hamburgo</td>\n",
       "      <td>200</td>\n",
       "    </tr>\n",
       "  </tbody>\n",
       "</table>\n",
       "</div>"
      ],
      "text/plain": [
       "                                coord  \\\n",
       "0  {'lon': -51.1306, 'lat': -29.6783}   \n",
       "0  {'lon': -51.1306, 'lat': -29.6783}   \n",
       "0  {'lon': -51.1306, 'lat': -29.6783}   \n",
       "0  {'lon': -51.1306, 'lat': -29.6783}   \n",
       "0  {'lon': -51.1306, 'lat': -29.6783}   \n",
       "0  {'lon': -51.1306, 'lat': -29.6783}   \n",
       "0  {'lon': -51.1306, 'lat': -29.6783}   \n",
       "0  {'lon': -51.1306, 'lat': -29.6783}   \n",
       "0  {'lon': -51.1306, 'lat': -29.6783}   \n",
       "0  {'lon': -51.1306, 'lat': -29.6783}   \n",
       "0  {'lon': -51.1306, 'lat': -29.6783}   \n",
       "0  {'lon': -51.1306, 'lat': -29.6783}   \n",
       "0  {'lon': -51.1306, 'lat': -29.6783}   \n",
       "0  {'lon': -51.1306, 'lat': -29.6783}   \n",
       "0  {'lon': -51.1306, 'lat': -29.6783}   \n",
       "0  {'lon': -51.1306, 'lat': -29.6783}   \n",
       "\n",
       "                                             weather      base  \\\n",
       "0  [{'id': 801, 'main': 'Clouds', 'description': ...  stations   \n",
       "0  [{'id': 802, 'main': 'Clouds', 'description': ...  stations   \n",
       "0  [{'id': 802, 'main': 'Clouds', 'description': ...  stations   \n",
       "0  [{'id': 802, 'main': 'Clouds', 'description': ...  stations   \n",
       "0  [{'id': 802, 'main': 'Clouds', 'description': ...  stations   \n",
       "0  [{'id': 802, 'main': 'Clouds', 'description': ...  stations   \n",
       "0  [{'id': 802, 'main': 'Clouds', 'description': ...  stations   \n",
       "0  [{'id': 802, 'main': 'Clouds', 'description': ...  stations   \n",
       "0  [{'id': 803, 'main': 'Clouds', 'description': ...  stations   \n",
       "0  [{'id': 803, 'main': 'Clouds', 'description': ...  stations   \n",
       "0  [{'id': 803, 'main': 'Clouds', 'description': ...  stations   \n",
       "0  [{'id': 803, 'main': 'Clouds', 'description': ...  stations   \n",
       "0  [{'id': 803, 'main': 'Clouds', 'description': ...  stations   \n",
       "0  [{'id': 803, 'main': 'Clouds', 'description': ...  stations   \n",
       "0  [{'id': 803, 'main': 'Clouds', 'description': ...  stations   \n",
       "0  [{'id': 803, 'main': 'Clouds', 'description': ...  stations   \n",
       "\n",
       "                                                main  visibility  \\\n",
       "0  {'temp': 293.48, 'feels_like': 293.79, 'temp_m...       10000   \n",
       "0  {'temp': 297.41, 'feels_like': 298.01, 'temp_m...       10000   \n",
       "0  {'temp': 298.46, 'feels_like': 299.06, 'temp_m...       10000   \n",
       "0  {'temp': 299.41, 'feels_like': 299.41, 'temp_m...       10000   \n",
       "0  {'temp': 300.13, 'feels_like': 302.05, 'temp_m...       10000   \n",
       "0  {'temp': 300.13, 'feels_like': 302.05, 'temp_m...       10000   \n",
       "0  {'temp': 299.78, 'feels_like': 299.78, 'temp_m...       10000   \n",
       "0  {'temp': 299.78, 'feels_like': 299.78, 'temp_m...       10000   \n",
       "0  {'temp': 300.07, 'feels_like': 301.95, 'temp_m...       10000   \n",
       "0  {'temp': 300.07, 'feels_like': 301.95, 'temp_m...       10000   \n",
       "0  {'temp': 300.43, 'feels_like': 302.58, 'temp_m...       10000   \n",
       "0  {'temp': 300.43, 'feels_like': 302.58, 'temp_m...       10000   \n",
       "0  {'temp': 301.55, 'feels_like': 304.16, 'temp_m...       10000   \n",
       "0  {'temp': 301.93, 'feels_like': 304.57, 'temp_m...       10000   \n",
       "0  {'temp': 301.96, 'feels_like': 303.87, 'temp_m...       10000   \n",
       "0  {'temp': 301.19, 'feels_like': 303.01, 'temp_m...       10000   \n",
       "\n",
       "                                                wind       clouds          dt  \\\n",
       "0           {'speed': 1.51, 'deg': 88, 'gust': 4.18}  {'all': 16}  1704344172   \n",
       "0           {'speed': 1.99, 'deg': 108, 'gust': 3.2}  {'all': 35}  1704371630   \n",
       "0           {'speed': 1.99, 'deg': 108, 'gust': 3.2}  {'all': 35}  1704373596   \n",
       "0          {'speed': 2.71, 'deg': 122, 'gust': 3.67}  {'all': 46}  1704376514   \n",
       "0          {'speed': 2.71, 'deg': 122, 'gust': 3.67}  {'all': 46}  1704377123   \n",
       "0          {'speed': 2.71, 'deg': 122, 'gust': 3.67}  {'all': 46}  1704377123   \n",
       "0          {'speed': 2.71, 'deg': 122, 'gust': 3.67}  {'all': 46}  1704377714   \n",
       "0          {'speed': 2.71, 'deg': 122, 'gust': 3.67}  {'all': 46}  1704377714   \n",
       "0          {'speed': 3.12, 'deg': 125, 'gust': 3.89}  {'all': 51}  1704380049   \n",
       "0          {'speed': 3.12, 'deg': 125, 'gust': 3.89}  {'all': 51}  1704380049   \n",
       "0          {'speed': 3.12, 'deg': 125, 'gust': 3.89}  {'all': 51}  1704381276   \n",
       "0          {'speed': 3.12, 'deg': 125, 'gust': 3.89}  {'all': 51}  1704381276   \n",
       "0          {'speed': 3.38, 'deg': 121, 'gust': 4.65}  {'all': 56}  1704385389   \n",
       "0          {'speed': 3.52, 'deg': 117, 'gust': 4.85}  {'all': 56}  1704387811   \n",
       "0          {'speed': 3.74, 'deg': 119, 'gust': 5.57}  {'all': 58}  1704392693   \n",
       "0  {'speed': 3.7199999999999998, 'deg': 121, 'gus...  {'all': 66}  1704394236   \n",
       "\n",
       "                                                 sys  timezone       id  \\\n",
       "0  {'type': 2, 'id': 2020383, 'country': 'BR', 's...    -10800  3456068   \n",
       "0  {'type': 2, 'id': 2020383, 'country': 'BR', 's...    -10800  3456068   \n",
       "0  {'type': 2, 'id': 2020383, 'country': 'BR', 's...    -10800  3456068   \n",
       "0  {'type': 2, 'id': 2020383, 'country': 'BR', 's...    -10800  3456068   \n",
       "0  {'type': 2, 'id': 2020383, 'country': 'BR', 's...    -10800  3456068   \n",
       "0  {'type': 2, 'id': 2020383, 'country': 'BR', 's...    -10800  3456068   \n",
       "0  {'type': 2, 'id': 2020383, 'country': 'BR', 's...    -10800  3456068   \n",
       "0  {'type': 2, 'id': 2020383, 'country': 'BR', 's...    -10800  3456068   \n",
       "0  {'type': 2, 'id': 2020383, 'country': 'BR', 's...    -10800  3456068   \n",
       "0  {'type': 2, 'id': 2020383, 'country': 'BR', 's...    -10800  3456068   \n",
       "0  {'type': 2, 'id': 2020383, 'country': 'BR', 's...    -10800  3456068   \n",
       "0  {'type': 2, 'id': 2020383, 'country': 'BR', 's...    -10800  3456068   \n",
       "0  {'type': 2, 'id': 2020383, 'country': 'BR', 's...    -10800  3456068   \n",
       "0  {'type': 2, 'id': 2020383, 'country': 'BR', 's...    -10800  3456068   \n",
       "0  {'type': 2, 'id': 2020383, 'country': 'BR', 's...    -10800  3456068   \n",
       "0  {'type': 2, 'id': 2020383, 'country': 'BR', 's...    -10800  3456068   \n",
       "\n",
       "            name  cod  \n",
       "0  Novo Hamburgo  200  \n",
       "0  Novo Hamburgo  200  \n",
       "0  Novo Hamburgo  200  \n",
       "0  Novo Hamburgo  200  \n",
       "0  Novo Hamburgo  200  \n",
       "0  Novo Hamburgo  200  \n",
       "0  Novo Hamburgo  200  \n",
       "0  Novo Hamburgo  200  \n",
       "0  Novo Hamburgo  200  \n",
       "0  Novo Hamburgo  200  \n",
       "0  Novo Hamburgo  200  \n",
       "0  Novo Hamburgo  200  \n",
       "0  Novo Hamburgo  200  \n",
       "0  Novo Hamburgo  200  \n",
       "0  Novo Hamburgo  200  \n",
       "0  Novo Hamburgo  200  "
      ]
     },
     "execution_count": 17,
     "metadata": {},
     "output_type": "execute_result"
    }
   ],
   "source": [
    "df"
   ]
  },
  {
   "cell_type": "code",
   "execution_count": 9,
   "metadata": {},
   "outputs": [
    {
     "data": {
      "text/plain": [
       "{'ResponseMetadata': {'RequestId': '6K2KXBGY4SY50GB4',\n",
       "  'HostId': 'NFr/B2ygS9ZBUHO5EKFnlYREAW+LC9H4ufjIhrH3shwC7OzpKDYRrhVSd0O9jby1/ycTHHli2mk=',\n",
       "  'HTTPStatusCode': 200,\n",
       "  'HTTPHeaders': {'x-amz-id-2': 'NFr/B2ygS9ZBUHO5EKFnlYREAW+LC9H4ufjIhrH3shwC7OzpKDYRrhVSd0O9jby1/ycTHHli2mk=',\n",
       "   'x-amz-request-id': '6K2KXBGY4SY50GB4',\n",
       "   'date': 'Thu, 04 Jan 2024 18:51:26 GMT',\n",
       "   'x-amz-server-side-encryption': 'AES256',\n",
       "   'etag': '\"19038177778a72ad0162024359b6c2bc\"',\n",
       "   'server': 'AmazonS3',\n",
       "   'content-length': '0'},\n",
       "  'RetryAttempts': 0},\n",
       " 'ETag': '\"19038177778a72ad0162024359b6c2bc\"',\n",
       " 'ServerSideEncryption': 'AES256'}"
      ]
     },
     "execution_count": 9,
     "metadata": {},
     "output_type": "execute_result"
    }
   ],
   "source": [
    "# Defina suas credenciais explicitamente (não recomendado)\n",
    "profile_name = 'CRISTIAN_AWS'\n",
    "s3 = boto3.session.Session(profile_name=profile_name).client('s3')\n",
    "bucket_name = 'data-integration-projects'\n",
    "directory_path = 'openweather-data-lake/raw-data/'\n",
    "dia_da_exucucao = datetime.now().strftime('%Y-%m-%d-%H-%M-%S')\n",
    "file_name = f'weather_data_{dia_da_exucucao}.json'\n",
    "s3.put_object(Bucket=bucket_name, Key=directory_path + file_name, Body=weather_json_string)"
   ]
  },
  {
   "cell_type": "markdown",
   "metadata": {},
   "source": [
    "Import data from data-lake"
   ]
  },
  {
   "cell_type": "code",
   "execution_count": null,
   "metadata": {},
   "outputs": [],
   "source": [
    "import s3fs\n",
    "profile_name = 'CRISTIAN_AWS'\n",
    "s3 = boto3.session.Session(profile_name=profile_name).client('s3')\n",
    "bucket_name = 'data-integration-projects'\n",
    "directory_path = 'openweather-data-lake/raw-data/'\n",
    "fs = s3fs.S3FileSystem()\n",
    "\n",
    "# Obtenha a lista de objetos no diretório especificado\n",
    "response = s3.list_objects_v2(Bucket=bucket_name, Prefix=directory_path)\n",
    "s3_clientdata = None\n",
    "s3_list = []\n",
    "# Verifique se há objetos no diretório\n",
    "if 'Contents' in response:\n",
    "    for obj in response['Contents']:\n",
    "        if obj[\"Size\"] != 0:\n",
    "            path = \"s3://data-integration-projects/\" + obj['Key']\n",
    "            print(path)\n",
    "            with fs.open(path, 'rb') as f:\n",
    "                s3_clientdata = json.load(f)\n",
    "        s3_list.append(s3_clientdata)\n",
    "            \n",
    "df = pd.json_normalize(s3_list)"
   ]
  },
  {
   "cell_type": "code",
   "execution_count": null,
   "metadata": {},
   "outputs": [],
   "source": [
    "df"
   ]
  },
  {
   "cell_type": "code",
   "execution_count": null,
   "metadata": {},
   "outputs": [],
   "source": [
    "response"
   ]
  },
  {
   "cell_type": "code",
   "execution_count": null,
   "metadata": {},
   "outputs": [],
   "source": [
    "df"
   ]
  },
  {
   "cell_type": "code",
   "execution_count": null,
   "metadata": {},
   "outputs": [],
   "source": [
    "df"
   ]
  },
  {
   "cell_type": "code",
   "execution_count": null,
   "metadata": {},
   "outputs": [],
   "source": [
    "path = \"s3://data-integration-projects/\" + response[\"Contents\"][1]['Key']"
   ]
  },
  {
   "cell_type": "code",
   "execution_count": null,
   "metadata": {},
   "outputs": [],
   "source": [
    "df_aux = pd.read_json(path, orient= 'records')"
   ]
  },
  {
   "cell_type": "code",
   "execution_count": null,
   "metadata": {},
   "outputs": [],
   "source": [
    "path"
   ]
  },
  {
   "cell_type": "code",
   "execution_count": null,
   "metadata": {},
   "outputs": [],
   "source": [
    "response[\"Contents\"][1][\"Key\"].split(\"/\")[-1]"
   ]
  },
  {
   "cell_type": "code",
   "execution_count": null,
   "metadata": {},
   "outputs": [],
   "source": [
    "response"
   ]
  },
  {
   "cell_type": "code",
   "execution_count": null,
   "metadata": {},
   "outputs": [],
   "source": [
    "s3.download_file(bucket_name, obj['Key'], local_file_path)"
   ]
  },
  {
   "cell_type": "code",
   "execution_count": null,
   "metadata": {},
   "outputs": [],
   "source": [
    "file_name"
   ]
  },
  {
   "cell_type": "code",
   "execution_count": null,
   "metadata": {},
   "outputs": [],
   "source": [
    "objects"
   ]
  },
  {
   "cell_type": "code",
   "execution_count": null,
   "metadata": {},
   "outputs": [],
   "source": [
    "s3.download_file(bucket_name, file_name, local_file_path)"
   ]
  },
  {
   "cell_type": "code",
   "execution_count": null,
   "metadata": {},
   "outputs": [],
   "source": [
    " s3.download_file(bucket_name, file_name, local_file_path)\n",
    "\n",
    "    print(f'Arquivo {file_name} baixado para {local_file_path}')"
   ]
  },
  {
   "cell_type": "code",
   "execution_count": null,
   "metadata": {},
   "outputs": [],
   "source": [
    "weather_df = pd.json_normalize(wheater_json)"
   ]
  },
  {
   "cell_type": "code",
   "execution_count": null,
   "metadata": {},
   "outputs": [],
   "source": [
    "weather_df"
   ]
  },
  {
   "cell_type": "code",
   "execution_count": null,
   "metadata": {},
   "outputs": [],
   "source": [
    "df_lon_lat = pd.DataFrame(wheater_json['coord'], index=[0])"
   ]
  },
  {
   "cell_type": "code",
   "execution_count": null,
   "metadata": {},
   "outputs": [],
   "source": [
    "df_lon_lat"
   ]
  },
  {
   "cell_type": "code",
   "execution_count": null,
   "metadata": {},
   "outputs": [],
   "source": [
    "df_weather = pd.DataFrame(wheater_json['weather'], index=[0])"
   ]
  },
  {
   "cell_type": "code",
   "execution_count": null,
   "metadata": {},
   "outputs": [],
   "source": [
    "df_weather"
   ]
  },
  {
   "cell_type": "code",
   "execution_count": null,
   "metadata": {},
   "outputs": [],
   "source": [
    "df_main = pd.DataFrame(wheater_json['main'], index=[0])"
   ]
  },
  {
   "cell_type": "code",
   "execution_count": null,
   "metadata": {},
   "outputs": [],
   "source": [
    "df_main"
   ]
  },
  {
   "cell_type": "code",
   "execution_count": null,
   "metadata": {},
   "outputs": [],
   "source": [
    "selected_columns = [\n",
    "    \"base\",\n",
    "    \"visibility\",\n",
    "    \"dt\",\n",
    "    \"timezone\",\n",
    "    \"id\",\n",
    "    \"name\",\n",
    "    \"cod\",\n",
    "    \"coord.lon\",\n",
    "    \"coord.lat\",\n",
    "    \"main.temp\",\n",
    "    \"main.feels_like\",\n",
    "    \"main.temp_min\",\n",
    "    \"main.temp_max\",\n",
    "    \"main.pressure\",\n",
    "    \"main.humidity\",\n",
    "    \"main.sea_level\",\n",
    "    \"main.grnd_level\",\n",
    "    \"wind.speed\",\n",
    "    \"wind.deg\",\n",
    "    \"wind.gust\",\n",
    "    \"clouds.all\",\n",
    "    \"sys.type\",\n",
    "    \"sys.id\",\n",
    "    \"sys.country\",\n",
    "    \"sys.sunrise\",\n",
    "    \"sys.sunset\",\n",
    "]"
   ]
  },
  {
   "cell_type": "code",
   "execution_count": null,
   "metadata": {},
   "outputs": [],
   "source": [
    "weather_df = pd.DataFrame(weather_df)"
   ]
  },
  {
   "cell_type": "code",
   "execution_count": null,
   "metadata": {},
   "outputs": [],
   "source": [
    "weather_df"
   ]
  },
  {
   "cell_type": "code",
   "execution_count": null,
   "metadata": {},
   "outputs": [],
   "source": [
    "df_clumns_selected = weather_df[selected_columns]"
   ]
  },
  {
   "cell_type": "code",
   "execution_count": null,
   "metadata": {},
   "outputs": [],
   "source": [
    "df_clumns_selected"
   ]
  },
  {
   "cell_type": "code",
   "execution_count": null,
   "metadata": {},
   "outputs": [],
   "source": [
    "super_df = pd.concat([df_weather, df_lon_lat, df_main, df_clumns_selected], axis=0, ignore_index=True)"
   ]
  },
  {
   "cell_type": "code",
   "execution_count": null,
   "metadata": {},
   "outputs": [],
   "source": [
    "super_df"
   ]
  },
  {
   "cell_type": "code",
   "execution_count": null,
   "metadata": {},
   "outputs": [],
   "source": [
    "super_df.to_parquet(\"C:/Users/Cristian/Desktop/area_de_trabalho/super_df.parquet\")"
   ]
  },
  {
   "cell_type": "code",
   "execution_count": null,
   "metadata": {},
   "outputs": [],
   "source": [
    "dia_da_exucucao"
   ]
  },
  {
   "cell_type": "markdown",
   "metadata": {
    "tags": [
     "parameters"
    ]
   },
   "source": [
    "Save at S3"
   ]
  },
  {
   "cell_type": "code",
   "execution_count": null,
   "metadata": {},
   "outputs": [],
   "source": [
    "# Defina suas credenciais explicitamente (não recomendado)\n",
    "profile_name = 'CRISTIAN_AWS'\n",
    "s3 = boto3.session.Session(profile_name=profile_name).client('s3')"
   ]
  },
  {
   "cell_type": "code",
   "execution_count": null,
   "metadata": {},
   "outputs": [],
   "source": [
    "bucket_name = 'cristian-teste-buckt-from-python-code'"
   ]
  },
  {
   "cell_type": "code",
   "execution_count": null,
   "metadata": {},
   "outputs": [],
   "source": [
    "local_file_path = \"C:/Users/Cristian/Desktop/area_de_trabalho/super_df.parquet\""
   ]
  },
  {
   "cell_type": "code",
   "execution_count": null,
   "metadata": {},
   "outputs": [],
   "source": [
    "dia_da_exucucao = datetime.now().strftime('%Y-%m-%d-%H-%M-%S')"
   ]
  },
  {
   "cell_type": "code",
   "execution_count": null,
   "metadata": {},
   "outputs": [],
   "source": [
    "dia_da_exucucao"
   ]
  },
  {
   "cell_type": "code",
   "execution_count": null,
   "metadata": {},
   "outputs": [],
   "source": [
    "s3_file_name = f'df_teste_{dia_da_exucucao}.parquet'"
   ]
  },
  {
   "cell_type": "code",
   "execution_count": null,
   "metadata": {},
   "outputs": [],
   "source": [
    "s3_file_name"
   ]
  },
  {
   "cell_type": "code",
   "execution_count": null,
   "metadata": {},
   "outputs": [],
   "source": [
    "s3.upload_file(local_file_path, bucket_name, s3_file_name)"
   ]
  }
 ],
 "metadata": {
  "kernelspec": {
   "display_name": "Python 3",
   "language": "python",
   "name": "python3"
  },
  "language_info": {
   "codemirror_mode": {
    "name": "ipython",
    "version": 3
   },
   "file_extension": ".py",
   "mimetype": "text/x-python",
   "name": "python",
   "nbconvert_exporter": "python",
   "pygments_lexer": "ipython3",
   "version": "3.12.1"
  },
  "orig_nbformat": 4
 },
 "nbformat": 4,
 "nbformat_minor": 2
}
