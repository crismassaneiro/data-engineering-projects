{
 "cells": [
  {
   "cell_type": "code",
   "execution_count": 1,
   "metadata": {},
   "outputs": [],
   "source": [
    "import os\n",
    "import json\n",
    "import boto3\n",
    "import requests\n",
    "import pandas as pd\n",
    "import pyarrow as pa\n",
    "import awswrangler as wr\n",
    "import pyarrow.parquet as pq\n",
    "from datetime import datetime"
   ]
  },
  {
   "cell_type": "code",
   "execution_count": 2,
   "metadata": {},
   "outputs": [],
   "source": [
    "pd.set_option('display.max_colwidth', None)"
   ]
  },
  {
   "cell_type": "code",
   "execution_count": 3,
   "metadata": {},
   "outputs": [],
   "source": [
    "client = boto3.session.Session(profile_name='CRISTIAN_AWS').client('secretsmanager', region_name='us-east-1')\n",
    "response = client.get_secret_value(SecretId='env/openweather')\n",
    "secret_data = response['SecretString']\n",
    "secrets_dict = json.loads(secret_data)\n",
    "open_weather_token = secrets_dict.get('OPEN_WEATHER_SECRET', '')\n",
    "API_LINK = f\"https://api.openweathermap.org/data/2.5/weather?q=novo hamburgo,br&APPID={open_weather_token}\""
   ]
  },
  {
   "cell_type": "code",
   "execution_count": 4,
   "metadata": {},
   "outputs": [],
   "source": [
    "requisicao = requests.get(API_LINK)\n",
    "wheater_json = requisicao.json()\n",
    "weather_json_string = json.dumps(wheater_json)\n",
    "weather_json_string = json.dumps(wheater_json)"
   ]
  },
  {
   "cell_type": "markdown",
   "metadata": {},
   "source": [
    "Save raw JSON at Data-lake"
   ]
  },
  {
   "cell_type": "code",
   "execution_count": 5,
   "metadata": {},
   "outputs": [
    {
     "name": "stdout",
     "output_type": "stream",
     "text": [
      "Arquivo salvo em: data-integration-projects/openweather-data-lake/raw-data/2024/01/13/weather_data_2024-01-13-23-58-17.json\n"
     ]
    }
   ],
   "source": [
    "# Defina suas credenciais explicitamente (não recomendado)\n",
    "profile_name = 'CRISTIAN_AWS'\n",
    "s3 = boto3.session.Session(profile_name=profile_name).client('s3')\n",
    "bucket_name = 'data-integration-projects'\n",
    "directory_path = 'openweather-data-lake/raw-data/'\n",
    "\n",
    "# Obtenha a data atual\n",
    "current_date = datetime.now()\n",
    "dia_da_execucao = current_date.strftime('%Y-%m-%d-%H-%M-%S')\n",
    "\n",
    "# Divida a data em ano, mês e dia\n",
    "year = str(current_date.year)\n",
    "month = str(current_date.month).zfill(2)  # Adicionar zero à esquerda se necessário\n",
    "day = str(current_date.day).zfill(2)  # Adicionar zero à esquerda se necessário\n",
    "\n",
    "# Construa o caminho do diretório no formato 'year/month/day/'\n",
    "directory_path = f'{directory_path}{year}/{month}/{day}/'\n",
    "\n",
    "# Nome do arquivo usando a data e hora da execução\n",
    "file_name = f'weather_data_{dia_da_execucao}.json'\n",
    "\n",
    "# Carregar o arquivo para o S3\n",
    "s3.put_object(Bucket=bucket_name, Key=directory_path + file_name, Body=weather_json_string)\n",
    "\n",
    "print(f'Arquivo salvo em: {bucket_name}/{directory_path}{file_name}')"
   ]
  },
  {
   "cell_type": "markdown",
   "metadata": {},
   "source": [
    "Import data from data-lake"
   ]
  },
  {
   "cell_type": "code",
   "execution_count": 6,
   "metadata": {},
   "outputs": [],
   "source": [
    "profile_name = 'CRISTIAN_AWS'\n",
    "# Configuração do cliente S3\n",
    "s3 = boto3.session.Session(profile_name=profile_name)\n",
    "# Substitua 'seu-bucket' e 'seu-arquivo' pelos valores reais\n",
    "bucket_name = 'data-integration-projects/openweather-data-lake/raw-data'\n",
    "year = \"2024\"\n",
    "month = \"01\"\n",
    "day = \"05\" \n",
    "# Leitura dos dados JSON do S3 usando o awswrangler\n",
    "df = wr.s3.read_json(f's3://{bucket_name + \"/\" + year + \"/\" + month + \"/\" + day}/*', lines=True, boto3_session = s3)"
   ]
  },
  {
   "cell_type": "markdown",
   "metadata": {},
   "source": [
    "Tranform data"
   ]
  },
  {
   "cell_type": "code",
   "execution_count": 7,
   "metadata": {},
   "outputs": [
    {
     "data": {
      "text/html": [
       "<div>\n",
       "<style scoped>\n",
       "    .dataframe tbody tr th:only-of-type {\n",
       "        vertical-align: middle;\n",
       "    }\n",
       "\n",
       "    .dataframe tbody tr th {\n",
       "        vertical-align: top;\n",
       "    }\n",
       "\n",
       "    .dataframe thead th {\n",
       "        text-align: right;\n",
       "    }\n",
       "</style>\n",
       "<table border=\"1\" class=\"dataframe\">\n",
       "  <thead>\n",
       "    <tr style=\"text-align: right;\">\n",
       "      <th></th>\n",
       "      <th>base</th>\n",
       "      <th>visibility</th>\n",
       "      <th>id</th>\n",
       "      <th>name</th>\n",
       "      <th>cod</th>\n",
       "      <th>lon</th>\n",
       "      <th>lat</th>\n",
       "      <th>clouds_description</th>\n",
       "      <th>temp</th>\n",
       "      <th>feels_like</th>\n",
       "      <th>temp_min</th>\n",
       "      <th>temp_max</th>\n",
       "      <th>pressure</th>\n",
       "      <th>humidity</th>\n",
       "      <th>clouds_number</th>\n",
       "      <th>country</th>\n",
       "      <th>dt_utc</th>\n",
       "    </tr>\n",
       "  </thead>\n",
       "  <tbody>\n",
       "    <tr>\n",
       "      <th>0</th>\n",
       "      <td>stations</td>\n",
       "      <td>10000</td>\n",
       "      <td>3456068</td>\n",
       "      <td>Novo Hamburgo</td>\n",
       "      <td>200</td>\n",
       "      <td>-51.1306</td>\n",
       "      <td>-29.6783</td>\n",
       "      <td>few clouds</td>\n",
       "      <td>302.48</td>\n",
       "      <td>305.45</td>\n",
       "      <td>300.41</td>\n",
       "      <td>305.23</td>\n",
       "      <td>1010</td>\n",
       "      <td>64</td>\n",
       "      <td>22</td>\n",
       "      <td>BR</td>\n",
       "      <td>2024-01-05 18:39:42+00:00</td>\n",
       "    </tr>\n",
       "    <tr>\n",
       "      <th>1</th>\n",
       "      <td>stations</td>\n",
       "      <td>10000</td>\n",
       "      <td>3456068</td>\n",
       "      <td>Novo Hamburgo</td>\n",
       "      <td>200</td>\n",
       "      <td>-51.1306</td>\n",
       "      <td>-29.6783</td>\n",
       "      <td>few clouds</td>\n",
       "      <td>302.48</td>\n",
       "      <td>305.45</td>\n",
       "      <td>300.41</td>\n",
       "      <td>305.23</td>\n",
       "      <td>1010</td>\n",
       "      <td>64</td>\n",
       "      <td>22</td>\n",
       "      <td>BR</td>\n",
       "      <td>2024-01-05 18:39:42+00:00</td>\n",
       "    </tr>\n",
       "    <tr>\n",
       "      <th>2</th>\n",
       "      <td>stations</td>\n",
       "      <td>10000</td>\n",
       "      <td>3456068</td>\n",
       "      <td>Novo Hamburgo</td>\n",
       "      <td>200</td>\n",
       "      <td>-51.1306</td>\n",
       "      <td>-29.6783</td>\n",
       "      <td>few clouds</td>\n",
       "      <td>302.30</td>\n",
       "      <td>305.28</td>\n",
       "      <td>299.86</td>\n",
       "      <td>305.23</td>\n",
       "      <td>1010</td>\n",
       "      <td>65</td>\n",
       "      <td>22</td>\n",
       "      <td>BR</td>\n",
       "      <td>2024-01-05 19:05:49+00:00</td>\n",
       "    </tr>\n",
       "    <tr>\n",
       "      <th>3</th>\n",
       "      <td>stations</td>\n",
       "      <td>10000</td>\n",
       "      <td>3456068</td>\n",
       "      <td>Novo Hamburgo</td>\n",
       "      <td>200</td>\n",
       "      <td>-51.1306</td>\n",
       "      <td>-29.6783</td>\n",
       "      <td>scattered clouds</td>\n",
       "      <td>301.03</td>\n",
       "      <td>303.22</td>\n",
       "      <td>299.30</td>\n",
       "      <td>302.65</td>\n",
       "      <td>1010</td>\n",
       "      <td>67</td>\n",
       "      <td>25</td>\n",
       "      <td>BR</td>\n",
       "      <td>2024-01-05 20:46:50+00:00</td>\n",
       "    </tr>\n",
       "  </tbody>\n",
       "</table>\n",
       "</div>"
      ],
      "text/plain": [
       "       base  visibility       id           name  cod      lon      lat  \\\n",
       "0  stations       10000  3456068  Novo Hamburgo  200 -51.1306 -29.6783   \n",
       "1  stations       10000  3456068  Novo Hamburgo  200 -51.1306 -29.6783   \n",
       "2  stations       10000  3456068  Novo Hamburgo  200 -51.1306 -29.6783   \n",
       "3  stations       10000  3456068  Novo Hamburgo  200 -51.1306 -29.6783   \n",
       "\n",
       "  clouds_description    temp  feels_like  temp_min  temp_max  pressure  \\\n",
       "0         few clouds  302.48      305.45    300.41    305.23      1010   \n",
       "1         few clouds  302.48      305.45    300.41    305.23      1010   \n",
       "2         few clouds  302.30      305.28    299.86    305.23      1010   \n",
       "3   scattered clouds  301.03      303.22    299.30    302.65      1010   \n",
       "\n",
       "   humidity  clouds_number country                    dt_utc  \n",
       "0        64             22      BR 2024-01-05 18:39:42+00:00  \n",
       "1        64             22      BR 2024-01-05 18:39:42+00:00  \n",
       "2        65             22      BR 2024-01-05 19:05:49+00:00  \n",
       "3        67             25      BR 2024-01-05 20:46:50+00:00  "
      ]
     },
     "execution_count": 7,
     "metadata": {},
     "output_type": "execute_result"
    }
   ],
   "source": [
    "df['lon'] = df['coord'].apply(lambda x: x['lon'])\n",
    "df['lat'] = df['coord'].apply(lambda x: x['lat'])\n",
    "df['clouds_description'] = df['weather'].apply(lambda x: x[0]['description'] if x and isinstance(x, list) and 'description' in x[0] else None)\n",
    "df['temp'] = df['main'].apply(lambda x: x['temp'])\n",
    "df['feels_like'] = df['main'].apply(lambda x: x['feels_like'])\n",
    "df['temp_min'] = df['main'].apply(lambda x: x['temp_min'])\n",
    "df['temp_max'] = df['main'].apply(lambda x: x['temp_max'])\n",
    "df['pressure'] = df['main'].apply(lambda x: x['pressure'])\n",
    "df['humidity'] = df['main'].apply(lambda x: x['humidity'])\n",
    "df['clouds_number'] = df['clouds'].apply(lambda x: x['all'])\n",
    "df['country'] = df['sys'].apply(lambda x: x['country'])\n",
    "df['dt'] = pd.to_numeric(df['dt'])\n",
    "df['dt_utc'] = pd.to_datetime(df['dt'], unit='s')\n",
    "df['dt_utc'] = pd.to_datetime(df['dt_utc'], utc=True)\n",
    "df.drop(columns= [\"coord\", \"weather\", \"main\", \"wind\", \"clouds\", \"sys\", \"dt\", \"timezone\"], inplace= True)\n",
    "df.reset_index(drop= True)"
   ]
  },
  {
   "cell_type": "markdown",
   "metadata": {
    "tags": [
     "parameters"
    ]
   },
   "source": [
    "Save at S3"
   ]
  },
  {
   "cell_type": "code",
   "execution_count": 8,
   "metadata": {},
   "outputs": [
    {
     "name": "stdout",
     "output_type": "stream",
     "text": [
      "Arquivo salvo em: data-integration-projects/openweather-data-lake/processed-data/2024/01/13/df_2024-01-13-23-58-20.parquet\n"
     ]
    }
   ],
   "source": [
    "# Defina suas credenciais explicitamente (não recomendado)\n",
    "profile_name = 'CRISTIAN_AWS'\n",
    "s3 = boto3.session.Session(profile_name=profile_name).client('s3')\n",
    "bucket_name = 'data-integration-projects'\n",
    "directory_path = 'openweather-data-lake/processed-data/'\n",
    "\n",
    "# Obtenha a data atual\n",
    "current_date = datetime.now()\n",
    "dia_da_execucao = current_date.strftime('%Y-%m-%d-%H-%M-%S')\n",
    "\n",
    "# Divida a data em ano, mês e dia\n",
    "year = str(current_date.year)\n",
    "month = str(current_date.month).zfill(2)  # Adicionar zero à esquerda se necessário\n",
    "day = str(current_date.day).zfill(2)  # Adicionar zero à esquerda se necessário\n",
    "\n",
    "# Construa o caminho do diretório no formato 'year/month/day/'\n",
    "directory_path = f'{directory_path}{year}/{month}/{day}/'\n",
    "\n",
    "# Nome do arquivo usando a data e hora da execução\n",
    "file_name = f'df_{dia_da_execucao}.parquet'\n",
    "\n",
    "# Supondo que 'df' seja o DataFrame que você deseja salvar\n",
    "df = pd.DataFrame({'example_key': ['example_value']})\n",
    "\n",
    "# Salvar o DataFrame no formato parquet\n",
    "df.to_parquet(file_name)\n",
    "\n",
    "# Carregar o arquivo para o S3\n",
    "s3.upload_file(file_name, bucket_name, directory_path + file_name)\n",
    "\n",
    "print(f'Arquivo salvo em: {bucket_name}/{directory_path}{file_name}')\n"
   ]
  },
  {
   "cell_type": "code",
   "execution_count": 9,
   "metadata": {},
   "outputs": [],
   "source": [
    "## Defina suas credenciais explicitamente (não recomendado)\n",
    "#profile_name = 'CRISTIAN_AWS'\n",
    "#s3 = boto3.session.Session(profile_name=profile_name).client('s3')\n",
    "#bucket_name = 'data-integration-projects'\n",
    "#directory_path = 'openweather-data-lake/processed-data/'\n",
    "#dia_da_exucucao = datetime.now().strftime('%Y-%m-%d-%H-%M-%S')\n",
    "#file_name = f'df{dia_da_exucucao}.parquet'\n",
    "#df.to_parquet(file_name)\n",
    "#s3.upload_file(file_name, bucket_name, directory_path + file_name)"
   ]
  }
 ],
 "metadata": {
  "kernelspec": {
   "display_name": "Python 3",
   "language": "python",
   "name": "python3"
  },
  "language_info": {
   "codemirror_mode": {
    "name": "ipython",
    "version": 3
   },
   "file_extension": ".py",
   "mimetype": "text/x-python",
   "name": "python",
   "nbconvert_exporter": "python",
   "pygments_lexer": "ipython3",
   "version": "3.12.1"
  },
  "orig_nbformat": 4
 },
 "nbformat": 4,
 "nbformat_minor": 2
}
