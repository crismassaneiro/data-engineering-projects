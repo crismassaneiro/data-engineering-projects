{
 "cells": [
  {
   "cell_type": "code",
   "execution_count": 1,
   "metadata": {},
   "outputs": [],
   "source": [
    "import requests\n",
    "import pandas as pd"
   ]
  },
  {
   "cell_type": "code",
   "execution_count": 6,
   "metadata": {},
   "outputs": [
    {
     "name": "stdout",
     "output_type": "stream",
     "text": [
      "A chamada da API falhou. Código de status: 401\n"
     ]
    }
   ],
   "source": [
    "# Substitua \"{API key}\" pela sua chave de API real\n",
    "api_key = \"550d57361bde0d30b0dd389950c781ad\"\n",
    "\n",
    "# Latitude e longitude fictícias\n",
    "latitude = 33.44\n",
    "longitude = -94.04\n",
    "\n",
    "# Parâmetros da chamada de API\n",
    "params = {\n",
    "    \"lat\": latitude,\n",
    "    \"lon\": longitude,\n",
    "    \"exclude\": \"hourly,daily\",\n",
    "    \"appid\": api_key\n",
    "}\n",
    "\n",
    "# URL da API\n",
    "url = \"https://api.openweathermap.org/data/3.0/onecall\"\n",
    "\n",
    "# Fazendo a chamada da API\n",
    "response = requests.get(url, params=params)\n",
    "\n",
    "# Verificando se a chamada foi bem-sucedida\n",
    "if response.status_code == 200:\n",
    "    data = response.json()\n",
    "    # Aqui você pode manipular os dados da resposta conforme necessário\n",
    "    print(data)\n",
    "else:\n",
    "    print(\"A chamada da API falhou. Código de status:\", response.status_code)\n"
   ]
  },
  {
   "cell_type": "code",
   "execution_count": 42,
   "metadata": {},
   "outputs": [],
   "source": [
    "link2 = f\"https://api.openweathermap.org/data/2.5/weather?q=porto alegre,br&APPID=550d57361bde0d30b0dd389950c781ad\""
   ]
  },
  {
   "cell_type": "code",
   "execution_count": 43,
   "metadata": {},
   "outputs": [
    {
     "data": {
      "text/plain": [
       "'https://api.openweathermap.org/data/2.5/weather?q=porto alegre,br&APPID=550d57361bde0d30b0dd389950c781ad'"
      ]
     },
     "execution_count": 43,
     "metadata": {},
     "output_type": "execute_result"
    }
   ],
   "source": [
    "link2"
   ]
  },
  {
   "cell_type": "code",
   "execution_count": 44,
   "metadata": {},
   "outputs": [],
   "source": [
    "requisicao = requests.get(link2)"
   ]
  },
  {
   "cell_type": "code",
   "execution_count": 45,
   "metadata": {},
   "outputs": [
    {
     "data": {
      "text/plain": [
       "{'coord': {'lon': -51.23, 'lat': -30.0331},\n",
       " 'weather': [{'id': 800,\n",
       "   'main': 'Clear',\n",
       "   'description': 'clear sky',\n",
       "   'icon': '01n'}],\n",
       " 'base': 'stations',\n",
       " 'main': {'temp': 286.56,\n",
       "  'feels_like': 286.1,\n",
       "  'temp_min': 283.93,\n",
       "  'temp_max': 287.58,\n",
       "  'pressure': 1013,\n",
       "  'humidity': 82},\n",
       " 'visibility': 10000,\n",
       " 'wind': {'speed': 3.6, 'deg': 120},\n",
       " 'clouds': {'all': 0},\n",
       " 'dt': 1696301771,\n",
       " 'sys': {'type': 2,\n",
       "  'id': 2021802,\n",
       "  'country': 'BR',\n",
       "  'sunrise': 1696323664,\n",
       "  'sunset': 1696368409},\n",
       " 'timezone': -10800,\n",
       " 'id': 3452925,\n",
       " 'name': 'Porto Alegre',\n",
       " 'cod': 200}"
      ]
     },
     "execution_count": 45,
     "metadata": {},
     "output_type": "execute_result"
    }
   ],
   "source": [
    "requisicao.json()"
   ]
  }
 ],
 "metadata": {
  "kernelspec": {
   "display_name": "Python 3",
   "language": "python",
   "name": "python3"
  },
  "language_info": {
   "codemirror_mode": {
    "name": "ipython",
    "version": 3
   },
   "file_extension": ".py",
   "mimetype": "text/x-python",
   "name": "python",
   "nbconvert_exporter": "python",
   "pygments_lexer": "ipython3",
   "version": "3.11.1"
  },
  "orig_nbformat": 4
 },
 "nbformat": 4,
 "nbformat_minor": 2
}
