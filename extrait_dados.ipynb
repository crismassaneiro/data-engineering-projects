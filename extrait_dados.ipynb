{
 "cells": [
  {
   "cell_type": "code",
   "execution_count": 3,
   "metadata": {},
   "outputs": [
    {
     "name": "stdout",
     "output_type": "stream",
     "text": [
      "x é < que 5\n"
     ]
    }
   ],
   "source": [
    "x=3\n",
    "if x >= 5:\n",
    "   print(\"é maior que 5\")\n",
    "elif x == 5:\n",
    "    print(\"catuabinha\")\n",
    "else: \n",
    "    print(\"x é < que 5\")    "
   ]
  },
  {
   "cell_type": "code",
   "execution_count": 1,
   "metadata": {},
   "outputs": [
    {
     "name": "stdout",
     "output_type": "stream",
     "text": [
      "é maior que 5\n"
     ]
    }
   ],
   "source": [
    "x=7\n",
    "if x >= 5:\n",
    "   print(\"é maior que 5\")\n",
    "elif x == 5:\n",
    "    print(\"catuabinha\")\n",
    "else: \n",
    "    print(\"x é < que 5\")   "
   ]
  },
  {
   "cell_type": "code",
   "execution_count": null,
   "metadata": {},
   "outputs": [],
   "source": [
    "for i in x:\n",
    "    return \"catuaba\""
   ]
  }
 ],
 "metadata": {
  "kernelspec": {
   "display_name": "Python 3",
   "language": "python",
   "name": "python3"
  },
  "language_info": {
   "codemirror_mode": {
    "name": "ipython",
    "version": 3
   },
   "file_extension": ".py",
   "mimetype": "text/x-python",
   "name": "python",
   "nbconvert_exporter": "python",
   "pygments_lexer": "ipython3",
   "version": "3.11.1"
  },
  "orig_nbformat": 4
 },
 "nbformat": 4,
 "nbformat_minor": 2
}
