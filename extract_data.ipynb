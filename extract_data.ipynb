{
 "cells": [
  {
   "cell_type": "code",
   "execution_count": 1,
   "metadata": {},
   "outputs": [],
   "source": [
    "import requests\n",
    "import pandas as pd\n",
    "import pyarrow as pa\n",
    "import pyarrow.parquet as pq\n",
    "import boto3\n",
    "from datetime import datetime\n",
    "import os\n",
    "from io import BytesIO"
   ]
  },
  {
   "cell_type": "code",
   "execution_count": 2,
   "metadata": {},
   "outputs": [],
   "source": [
    "link2 = f\"https://api.openweathermap.org/data/2.5/weather?q=novo hamburgo,br&APPID=550d57361bde0d30b0dd389950c781ad\""
   ]
  },
  {
   "cell_type": "code",
   "execution_count": 3,
   "metadata": {},
   "outputs": [
    {
     "data": {
      "text/plain": [
       "'https://api.openweathermap.org/data/2.5/weather?q=novo hamburgo,br&APPID=550d57361bde0d30b0dd389950c781ad'"
      ]
     },
     "execution_count": 3,
     "metadata": {},
     "output_type": "execute_result"
    }
   ],
   "source": [
    "link2"
   ]
  },
  {
   "cell_type": "code",
   "execution_count": 4,
   "metadata": {},
   "outputs": [],
   "source": [
    "requisicao = requests.get(link2)"
   ]
  },
  {
   "cell_type": "code",
   "execution_count": 5,
   "metadata": {},
   "outputs": [
    {
     "data": {
      "text/plain": [
       "{'coord': {'lon': -51.1306, 'lat': -29.6783},\n",
       " 'weather': [{'id': 801,\n",
       "   'main': 'Clouds',\n",
       "   'description': 'few clouds',\n",
       "   'icon': '02n'}],\n",
       " 'base': 'stations',\n",
       " 'main': {'temp': 291.4,\n",
       "  'feels_like': 291.5,\n",
       "  'temp_min': 290.37,\n",
       "  'temp_max': 293.01,\n",
       "  'pressure': 1018,\n",
       "  'humidity': 85,\n",
       "  'sea_level': 1018,\n",
       "  'grnd_level': 1014},\n",
       " 'visibility': 10000,\n",
       " 'wind': {'speed': 0.74, 'deg': 105, 'gust': 1.76},\n",
       " 'clouds': {'all': 11},\n",
       " 'dt': 1697850097,\n",
       " 'sys': {'type': 2,\n",
       "  'id': 2020383,\n",
       "  'country': 'BR',\n",
       "  'sunrise': 1697791294,\n",
       "  'sunset': 1697837809},\n",
       " 'timezone': -10800,\n",
       " 'id': 3456068,\n",
       " 'name': 'Novo Hamburgo',\n",
       " 'cod': 200}"
      ]
     },
     "execution_count": 5,
     "metadata": {},
     "output_type": "execute_result"
    }
   ],
   "source": [
    "requisicao.json()"
   ]
  },
  {
   "cell_type": "code",
   "execution_count": 6,
   "metadata": {},
   "outputs": [],
   "source": [
    "df = requisicao.json()"
   ]
  },
  {
   "cell_type": "code",
   "execution_count": 7,
   "metadata": {},
   "outputs": [],
   "source": [
    "df1 = pd.json_normalize(df)"
   ]
  },
  {
   "cell_type": "code",
   "execution_count": 8,
   "metadata": {},
   "outputs": [],
   "source": [
    "df_lon_lat = pd.DataFrame(df['coord'], index=[0])"
   ]
  },
  {
   "cell_type": "code",
   "execution_count": 9,
   "metadata": {},
   "outputs": [
    {
     "data": {
      "text/html": [
       "<div>\n",
       "<style scoped>\n",
       "    .dataframe tbody tr th:only-of-type {\n",
       "        vertical-align: middle;\n",
       "    }\n",
       "\n",
       "    .dataframe tbody tr th {\n",
       "        vertical-align: top;\n",
       "    }\n",
       "\n",
       "    .dataframe thead th {\n",
       "        text-align: right;\n",
       "    }\n",
       "</style>\n",
       "<table border=\"1\" class=\"dataframe\">\n",
       "  <thead>\n",
       "    <tr style=\"text-align: right;\">\n",
       "      <th></th>\n",
       "      <th>lon</th>\n",
       "      <th>lat</th>\n",
       "    </tr>\n",
       "  </thead>\n",
       "  <tbody>\n",
       "    <tr>\n",
       "      <th>0</th>\n",
       "      <td>-51.1306</td>\n",
       "      <td>-29.6783</td>\n",
       "    </tr>\n",
       "  </tbody>\n",
       "</table>\n",
       "</div>"
      ],
      "text/plain": [
       "       lon      lat\n",
       "0 -51.1306 -29.6783"
      ]
     },
     "execution_count": 9,
     "metadata": {},
     "output_type": "execute_result"
    }
   ],
   "source": [
    "df_lon_lat"
   ]
  },
  {
   "cell_type": "code",
   "execution_count": 10,
   "metadata": {},
   "outputs": [],
   "source": [
    "df_weather = pd.DataFrame(df['weather'], index=[0])"
   ]
  },
  {
   "cell_type": "code",
   "execution_count": 11,
   "metadata": {},
   "outputs": [
    {
     "data": {
      "text/html": [
       "<div>\n",
       "<style scoped>\n",
       "    .dataframe tbody tr th:only-of-type {\n",
       "        vertical-align: middle;\n",
       "    }\n",
       "\n",
       "    .dataframe tbody tr th {\n",
       "        vertical-align: top;\n",
       "    }\n",
       "\n",
       "    .dataframe thead th {\n",
       "        text-align: right;\n",
       "    }\n",
       "</style>\n",
       "<table border=\"1\" class=\"dataframe\">\n",
       "  <thead>\n",
       "    <tr style=\"text-align: right;\">\n",
       "      <th></th>\n",
       "      <th>id</th>\n",
       "      <th>main</th>\n",
       "      <th>description</th>\n",
       "      <th>icon</th>\n",
       "    </tr>\n",
       "  </thead>\n",
       "  <tbody>\n",
       "    <tr>\n",
       "      <th>0</th>\n",
       "      <td>801</td>\n",
       "      <td>Clouds</td>\n",
       "      <td>few clouds</td>\n",
       "      <td>02n</td>\n",
       "    </tr>\n",
       "  </tbody>\n",
       "</table>\n",
       "</div>"
      ],
      "text/plain": [
       "    id    main description icon\n",
       "0  801  Clouds  few clouds  02n"
      ]
     },
     "execution_count": 11,
     "metadata": {},
     "output_type": "execute_result"
    }
   ],
   "source": [
    "df_weather"
   ]
  },
  {
   "cell_type": "code",
   "execution_count": 12,
   "metadata": {},
   "outputs": [],
   "source": [
    "df_main = pd.DataFrame(df['main'], index=[0])"
   ]
  },
  {
   "cell_type": "code",
   "execution_count": 13,
   "metadata": {},
   "outputs": [
    {
     "data": {
      "text/html": [
       "<div>\n",
       "<style scoped>\n",
       "    .dataframe tbody tr th:only-of-type {\n",
       "        vertical-align: middle;\n",
       "    }\n",
       "\n",
       "    .dataframe tbody tr th {\n",
       "        vertical-align: top;\n",
       "    }\n",
       "\n",
       "    .dataframe thead th {\n",
       "        text-align: right;\n",
       "    }\n",
       "</style>\n",
       "<table border=\"1\" class=\"dataframe\">\n",
       "  <thead>\n",
       "    <tr style=\"text-align: right;\">\n",
       "      <th></th>\n",
       "      <th>temp</th>\n",
       "      <th>feels_like</th>\n",
       "      <th>temp_min</th>\n",
       "      <th>temp_max</th>\n",
       "      <th>pressure</th>\n",
       "      <th>humidity</th>\n",
       "      <th>sea_level</th>\n",
       "      <th>grnd_level</th>\n",
       "    </tr>\n",
       "  </thead>\n",
       "  <tbody>\n",
       "    <tr>\n",
       "      <th>0</th>\n",
       "      <td>291.4</td>\n",
       "      <td>291.5</td>\n",
       "      <td>290.37</td>\n",
       "      <td>293.01</td>\n",
       "      <td>1018</td>\n",
       "      <td>85</td>\n",
       "      <td>1018</td>\n",
       "      <td>1014</td>\n",
       "    </tr>\n",
       "  </tbody>\n",
       "</table>\n",
       "</div>"
      ],
      "text/plain": [
       "    temp  feels_like  temp_min  temp_max  pressure  humidity  sea_level  \\\n",
       "0  291.4       291.5    290.37    293.01      1018        85       1018   \n",
       "\n",
       "   grnd_level  \n",
       "0        1014  "
      ]
     },
     "execution_count": 13,
     "metadata": {},
     "output_type": "execute_result"
    }
   ],
   "source": [
    "df_main"
   ]
  },
  {
   "cell_type": "code",
   "execution_count": 14,
   "metadata": {},
   "outputs": [],
   "source": [
    "df1 = pd.DataFrame(df1)"
   ]
  },
  {
   "cell_type": "code",
   "execution_count": 15,
   "metadata": {},
   "outputs": [
    {
     "data": {
      "text/html": [
       "<div>\n",
       "<style scoped>\n",
       "    .dataframe tbody tr th:only-of-type {\n",
       "        vertical-align: middle;\n",
       "    }\n",
       "\n",
       "    .dataframe tbody tr th {\n",
       "        vertical-align: top;\n",
       "    }\n",
       "\n",
       "    .dataframe thead th {\n",
       "        text-align: right;\n",
       "    }\n",
       "</style>\n",
       "<table border=\"1\" class=\"dataframe\">\n",
       "  <thead>\n",
       "    <tr style=\"text-align: right;\">\n",
       "      <th></th>\n",
       "      <th>weather</th>\n",
       "      <th>base</th>\n",
       "      <th>visibility</th>\n",
       "      <th>dt</th>\n",
       "      <th>timezone</th>\n",
       "      <th>id</th>\n",
       "      <th>name</th>\n",
       "      <th>cod</th>\n",
       "      <th>coord.lon</th>\n",
       "      <th>coord.lat</th>\n",
       "      <th>...</th>\n",
       "      <th>main.grnd_level</th>\n",
       "      <th>wind.speed</th>\n",
       "      <th>wind.deg</th>\n",
       "      <th>wind.gust</th>\n",
       "      <th>clouds.all</th>\n",
       "      <th>sys.type</th>\n",
       "      <th>sys.id</th>\n",
       "      <th>sys.country</th>\n",
       "      <th>sys.sunrise</th>\n",
       "      <th>sys.sunset</th>\n",
       "    </tr>\n",
       "  </thead>\n",
       "  <tbody>\n",
       "    <tr>\n",
       "      <th>0</th>\n",
       "      <td>[{'id': 801, 'main': 'Clouds', 'description': ...</td>\n",
       "      <td>stations</td>\n",
       "      <td>10000</td>\n",
       "      <td>1697850097</td>\n",
       "      <td>-10800</td>\n",
       "      <td>3456068</td>\n",
       "      <td>Novo Hamburgo</td>\n",
       "      <td>200</td>\n",
       "      <td>-51.1306</td>\n",
       "      <td>-29.6783</td>\n",
       "      <td>...</td>\n",
       "      <td>1014</td>\n",
       "      <td>0.74</td>\n",
       "      <td>105</td>\n",
       "      <td>1.76</td>\n",
       "      <td>11</td>\n",
       "      <td>2</td>\n",
       "      <td>2020383</td>\n",
       "      <td>BR</td>\n",
       "      <td>1697791294</td>\n",
       "      <td>1697837809</td>\n",
       "    </tr>\n",
       "  </tbody>\n",
       "</table>\n",
       "<p>1 rows × 27 columns</p>\n",
       "</div>"
      ],
      "text/plain": [
       "                                             weather      base  visibility  \\\n",
       "0  [{'id': 801, 'main': 'Clouds', 'description': ...  stations       10000   \n",
       "\n",
       "           dt  timezone       id           name  cod  coord.lon  coord.lat  \\\n",
       "0  1697850097    -10800  3456068  Novo Hamburgo  200   -51.1306   -29.6783   \n",
       "\n",
       "   ...  main.grnd_level  wind.speed  wind.deg  wind.gust  clouds.all  \\\n",
       "0  ...             1014        0.74       105       1.76          11   \n",
       "\n",
       "   sys.type   sys.id  sys.country  sys.sunrise  sys.sunset  \n",
       "0         2  2020383           BR   1697791294  1697837809  \n",
       "\n",
       "[1 rows x 27 columns]"
      ]
     },
     "execution_count": 15,
     "metadata": {},
     "output_type": "execute_result"
    }
   ],
   "source": [
    "df1"
   ]
  },
  {
   "cell_type": "code",
   "execution_count": 16,
   "metadata": {},
   "outputs": [],
   "source": [
    "selected_columns = [\n",
    "    \"base\",\n",
    "    \"visibility\",\n",
    "    \"dt\",\n",
    "    \"timezone\",\n",
    "    \"id\",\n",
    "    \"name\",\n",
    "    \"cod\",\n",
    "    \"coord.lon\",\n",
    "    \"coord.lat\",\n",
    "    \"main.temp\",\n",
    "    \"main.feels_like\",\n",
    "    \"main.temp_min\",\n",
    "    \"main.temp_max\",\n",
    "    \"main.pressure\",\n",
    "    \"main.humidity\",\n",
    "    \"main.sea_level\",\n",
    "    \"main.grnd_level\",\n",
    "    \"wind.speed\",\n",
    "    \"wind.deg\",\n",
    "    \"wind.gust\",\n",
    "    \"clouds.all\",\n",
    "    \"sys.type\",\n",
    "    \"sys.id\",\n",
    "    \"sys.country\",\n",
    "    \"sys.sunrise\",\n",
    "    \"sys.sunset\",\n",
    "]"
   ]
  },
  {
   "cell_type": "code",
   "execution_count": 17,
   "metadata": {},
   "outputs": [],
   "source": [
    "df_clumns_selected = df1[selected_columns]"
   ]
  },
  {
   "cell_type": "code",
   "execution_count": 18,
   "metadata": {},
   "outputs": [
    {
     "data": {
      "text/html": [
       "<div>\n",
       "<style scoped>\n",
       "    .dataframe tbody tr th:only-of-type {\n",
       "        vertical-align: middle;\n",
       "    }\n",
       "\n",
       "    .dataframe tbody tr th {\n",
       "        vertical-align: top;\n",
       "    }\n",
       "\n",
       "    .dataframe thead th {\n",
       "        text-align: right;\n",
       "    }\n",
       "</style>\n",
       "<table border=\"1\" class=\"dataframe\">\n",
       "  <thead>\n",
       "    <tr style=\"text-align: right;\">\n",
       "      <th></th>\n",
       "      <th>base</th>\n",
       "      <th>visibility</th>\n",
       "      <th>dt</th>\n",
       "      <th>timezone</th>\n",
       "      <th>id</th>\n",
       "      <th>name</th>\n",
       "      <th>cod</th>\n",
       "      <th>coord.lon</th>\n",
       "      <th>coord.lat</th>\n",
       "      <th>main.temp</th>\n",
       "      <th>...</th>\n",
       "      <th>main.grnd_level</th>\n",
       "      <th>wind.speed</th>\n",
       "      <th>wind.deg</th>\n",
       "      <th>wind.gust</th>\n",
       "      <th>clouds.all</th>\n",
       "      <th>sys.type</th>\n",
       "      <th>sys.id</th>\n",
       "      <th>sys.country</th>\n",
       "      <th>sys.sunrise</th>\n",
       "      <th>sys.sunset</th>\n",
       "    </tr>\n",
       "  </thead>\n",
       "  <tbody>\n",
       "    <tr>\n",
       "      <th>0</th>\n",
       "      <td>stations</td>\n",
       "      <td>10000</td>\n",
       "      <td>1697850097</td>\n",
       "      <td>-10800</td>\n",
       "      <td>3456068</td>\n",
       "      <td>Novo Hamburgo</td>\n",
       "      <td>200</td>\n",
       "      <td>-51.1306</td>\n",
       "      <td>-29.6783</td>\n",
       "      <td>291.4</td>\n",
       "      <td>...</td>\n",
       "      <td>1014</td>\n",
       "      <td>0.74</td>\n",
       "      <td>105</td>\n",
       "      <td>1.76</td>\n",
       "      <td>11</td>\n",
       "      <td>2</td>\n",
       "      <td>2020383</td>\n",
       "      <td>BR</td>\n",
       "      <td>1697791294</td>\n",
       "      <td>1697837809</td>\n",
       "    </tr>\n",
       "  </tbody>\n",
       "</table>\n",
       "<p>1 rows × 26 columns</p>\n",
       "</div>"
      ],
      "text/plain": [
       "       base  visibility          dt  timezone       id           name  cod  \\\n",
       "0  stations       10000  1697850097    -10800  3456068  Novo Hamburgo  200   \n",
       "\n",
       "   coord.lon  coord.lat  main.temp  ...  main.grnd_level  wind.speed  \\\n",
       "0   -51.1306   -29.6783      291.4  ...             1014        0.74   \n",
       "\n",
       "   wind.deg  wind.gust  clouds.all  sys.type   sys.id  sys.country  \\\n",
       "0       105       1.76          11         2  2020383           BR   \n",
       "\n",
       "   sys.sunrise  sys.sunset  \n",
       "0   1697791294  1697837809  \n",
       "\n",
       "[1 rows x 26 columns]"
      ]
     },
     "execution_count": 18,
     "metadata": {},
     "output_type": "execute_result"
    }
   ],
   "source": [
    "df_clumns_selected"
   ]
  },
  {
   "cell_type": "code",
   "execution_count": 19,
   "metadata": {},
   "outputs": [],
   "source": [
    "super_df = pd.concat([df_weather, df_lon_lat, df_main, df_clumns_selected], axis=0, ignore_index=True)"
   ]
  },
  {
   "cell_type": "code",
   "execution_count": 20,
   "metadata": {},
   "outputs": [],
   "source": [
    "super_df.to_parquet(\"C:/Users/crist/Desktop/s3_testes/super_df.parquet\")"
   ]
  },
  {
   "cell_type": "code",
   "execution_count": 21,
   "metadata": {},
   "outputs": [
    {
     "data": {
      "text/html": [
       "<div>\n",
       "<style scoped>\n",
       "    .dataframe tbody tr th:only-of-type {\n",
       "        vertical-align: middle;\n",
       "    }\n",
       "\n",
       "    .dataframe tbody tr th {\n",
       "        vertical-align: top;\n",
       "    }\n",
       "\n",
       "    .dataframe thead th {\n",
       "        text-align: right;\n",
       "    }\n",
       "</style>\n",
       "<table border=\"1\" class=\"dataframe\">\n",
       "  <thead>\n",
       "    <tr style=\"text-align: right;\">\n",
       "      <th></th>\n",
       "      <th>id</th>\n",
       "      <th>main</th>\n",
       "      <th>description</th>\n",
       "      <th>icon</th>\n",
       "      <th>lon</th>\n",
       "      <th>lat</th>\n",
       "      <th>temp</th>\n",
       "      <th>feels_like</th>\n",
       "      <th>temp_min</th>\n",
       "      <th>temp_max</th>\n",
       "      <th>...</th>\n",
       "      <th>main.grnd_level</th>\n",
       "      <th>wind.speed</th>\n",
       "      <th>wind.deg</th>\n",
       "      <th>wind.gust</th>\n",
       "      <th>clouds.all</th>\n",
       "      <th>sys.type</th>\n",
       "      <th>sys.id</th>\n",
       "      <th>sys.country</th>\n",
       "      <th>sys.sunrise</th>\n",
       "      <th>sys.sunset</th>\n",
       "    </tr>\n",
       "  </thead>\n",
       "  <tbody>\n",
       "    <tr>\n",
       "      <th>0</th>\n",
       "      <td>801.0</td>\n",
       "      <td>Clouds</td>\n",
       "      <td>few clouds</td>\n",
       "      <td>02n</td>\n",
       "      <td>NaN</td>\n",
       "      <td>NaN</td>\n",
       "      <td>NaN</td>\n",
       "      <td>NaN</td>\n",
       "      <td>NaN</td>\n",
       "      <td>NaN</td>\n",
       "      <td>...</td>\n",
       "      <td>NaN</td>\n",
       "      <td>NaN</td>\n",
       "      <td>NaN</td>\n",
       "      <td>NaN</td>\n",
       "      <td>NaN</td>\n",
       "      <td>NaN</td>\n",
       "      <td>NaN</td>\n",
       "      <td>NaN</td>\n",
       "      <td>NaN</td>\n",
       "      <td>NaN</td>\n",
       "    </tr>\n",
       "    <tr>\n",
       "      <th>1</th>\n",
       "      <td>NaN</td>\n",
       "      <td>NaN</td>\n",
       "      <td>NaN</td>\n",
       "      <td>NaN</td>\n",
       "      <td>-51.1306</td>\n",
       "      <td>-29.6783</td>\n",
       "      <td>NaN</td>\n",
       "      <td>NaN</td>\n",
       "      <td>NaN</td>\n",
       "      <td>NaN</td>\n",
       "      <td>...</td>\n",
       "      <td>NaN</td>\n",
       "      <td>NaN</td>\n",
       "      <td>NaN</td>\n",
       "      <td>NaN</td>\n",
       "      <td>NaN</td>\n",
       "      <td>NaN</td>\n",
       "      <td>NaN</td>\n",
       "      <td>NaN</td>\n",
       "      <td>NaN</td>\n",
       "      <td>NaN</td>\n",
       "    </tr>\n",
       "    <tr>\n",
       "      <th>2</th>\n",
       "      <td>NaN</td>\n",
       "      <td>NaN</td>\n",
       "      <td>NaN</td>\n",
       "      <td>NaN</td>\n",
       "      <td>NaN</td>\n",
       "      <td>NaN</td>\n",
       "      <td>291.4</td>\n",
       "      <td>291.5</td>\n",
       "      <td>290.37</td>\n",
       "      <td>293.01</td>\n",
       "      <td>...</td>\n",
       "      <td>NaN</td>\n",
       "      <td>NaN</td>\n",
       "      <td>NaN</td>\n",
       "      <td>NaN</td>\n",
       "      <td>NaN</td>\n",
       "      <td>NaN</td>\n",
       "      <td>NaN</td>\n",
       "      <td>NaN</td>\n",
       "      <td>NaN</td>\n",
       "      <td>NaN</td>\n",
       "    </tr>\n",
       "    <tr>\n",
       "      <th>3</th>\n",
       "      <td>3456068.0</td>\n",
       "      <td>NaN</td>\n",
       "      <td>NaN</td>\n",
       "      <td>NaN</td>\n",
       "      <td>NaN</td>\n",
       "      <td>NaN</td>\n",
       "      <td>NaN</td>\n",
       "      <td>NaN</td>\n",
       "      <td>NaN</td>\n",
       "      <td>NaN</td>\n",
       "      <td>...</td>\n",
       "      <td>1014.0</td>\n",
       "      <td>0.74</td>\n",
       "      <td>105.0</td>\n",
       "      <td>1.76</td>\n",
       "      <td>11.0</td>\n",
       "      <td>2.0</td>\n",
       "      <td>2020383.0</td>\n",
       "      <td>BR</td>\n",
       "      <td>1.697791e+09</td>\n",
       "      <td>1.697838e+09</td>\n",
       "    </tr>\n",
       "  </tbody>\n",
       "</table>\n",
       "<p>4 rows × 39 columns</p>\n",
       "</div>"
      ],
      "text/plain": [
       "          id    main description icon      lon      lat   temp  feels_like  \\\n",
       "0      801.0  Clouds  few clouds  02n      NaN      NaN    NaN         NaN   \n",
       "1        NaN     NaN         NaN  NaN -51.1306 -29.6783    NaN         NaN   \n",
       "2        NaN     NaN         NaN  NaN      NaN      NaN  291.4       291.5   \n",
       "3  3456068.0     NaN         NaN  NaN      NaN      NaN    NaN         NaN   \n",
       "\n",
       "   temp_min  temp_max  ...  main.grnd_level  wind.speed  wind.deg  wind.gust  \\\n",
       "0       NaN       NaN  ...              NaN         NaN       NaN        NaN   \n",
       "1       NaN       NaN  ...              NaN         NaN       NaN        NaN   \n",
       "2    290.37    293.01  ...              NaN         NaN       NaN        NaN   \n",
       "3       NaN       NaN  ...           1014.0        0.74     105.0       1.76   \n",
       "\n",
       "  clouds.all  sys.type     sys.id  sys.country   sys.sunrise    sys.sunset  \n",
       "0        NaN       NaN        NaN          NaN           NaN           NaN  \n",
       "1        NaN       NaN        NaN          NaN           NaN           NaN  \n",
       "2        NaN       NaN        NaN          NaN           NaN           NaN  \n",
       "3       11.0       2.0  2020383.0           BR  1.697791e+09  1.697838e+09  \n",
       "\n",
       "[4 rows x 39 columns]"
      ]
     },
     "execution_count": 21,
     "metadata": {},
     "output_type": "execute_result"
    }
   ],
   "source": [
    "super_df"
   ]
  },
  {
   "cell_type": "markdown",
   "metadata": {
    "tags": [
     "parameters"
    ]
   },
   "source": [
    "putaria com o boto3"
   ]
  },
  {
   "cell_type": "code",
   "execution_count": 22,
   "metadata": {},
   "outputs": [],
   "source": [
    "# Defina suas credenciais explicitamente (não recomendado)\n",
    "profile_name = 'CRISTIAN_AWS'\n",
    "\n",
    "s3 = boto3.session.Session(profile_name=profile_name).client('s3')"
   ]
  },
  {
   "cell_type": "code",
   "execution_count": 23,
   "metadata": {},
   "outputs": [],
   "source": [
    "bucket_name = 'cristian-teste-buckt-from-python-code'"
   ]
  },
  {
   "cell_type": "code",
   "execution_count": 24,
   "metadata": {},
   "outputs": [],
   "source": [
    "local_file_path = \"C:/Users/crist/Desktop/s3_testes/super_df.parquet\""
   ]
  },
  {
   "cell_type": "code",
   "execution_count": 25,
   "metadata": {},
   "outputs": [],
   "source": [
    "dia_da_exucucao = datetime.now().strftime('%Y-%m-%d-%H-%M-%S')"
   ]
  },
  {
   "cell_type": "code",
   "execution_count": 26,
   "metadata": {},
   "outputs": [
    {
     "data": {
      "text/plain": [
       "'2023-10-20-22-02-52'"
      ]
     },
     "execution_count": 26,
     "metadata": {},
     "output_type": "execute_result"
    }
   ],
   "source": [
    "dia_da_exucucao"
   ]
  },
  {
   "cell_type": "code",
   "execution_count": 27,
   "metadata": {},
   "outputs": [],
   "source": [
    "s3_file_name = f'df_teste_{dia_da_exucucao}.parquet'"
   ]
  },
  {
   "cell_type": "code",
   "execution_count": 28,
   "metadata": {},
   "outputs": [
    {
     "data": {
      "text/plain": [
       "'df_teste_2023-10-20-22-02-52.parquet'"
      ]
     },
     "execution_count": 28,
     "metadata": {},
     "output_type": "execute_result"
    }
   ],
   "source": [
    "s3_file_name"
   ]
  },
  {
   "cell_type": "code",
   "execution_count": 29,
   "metadata": {},
   "outputs": [],
   "source": [
    "s3.upload_file(local_file_path, bucket_name, s3_file_name)"
   ]
  },
  {
   "cell_type": "markdown",
   "metadata": {},
   "source": [
    "---------------------------------"
   ]
  },
  {
   "cell_type": "code",
   "execution_count": 30,
   "metadata": {},
   "outputs": [],
   "source": [
    "bucket_name1 = 'cristian-teste-buckt-from-python-code'\n",
    "nome_do_arquivo = 'df_teste_2023-10-15.parquet'  # Substitua pelo nome do arquivo que deseja ler\n"
   ]
  },
  {
   "cell_type": "code",
   "execution_count": 31,
   "metadata": {},
   "outputs": [],
   "source": [
    "response = s3.get_object(Bucket=bucket_name1, Key=nome_do_arquivo)\n",
    "conteudo_do_arquivo = response['Body'].read()\n"
   ]
  },
  {
   "cell_type": "code",
   "execution_count": 32,
   "metadata": {},
   "outputs": [],
   "source": [
    "buffer = BytesIO(conteudo_do_arquivo)"
   ]
  },
  {
   "cell_type": "code",
   "execution_count": 33,
   "metadata": {},
   "outputs": [],
   "source": [
    "table = pq.read_table(buffer)"
   ]
  },
  {
   "cell_type": "code",
   "execution_count": 34,
   "metadata": {},
   "outputs": [],
   "source": [
    "df = table.to_pandas()"
   ]
  },
  {
   "cell_type": "code",
   "execution_count": 35,
   "metadata": {},
   "outputs": [
    {
     "data": {
      "text/html": [
       "<div>\n",
       "<style scoped>\n",
       "    .dataframe tbody tr th:only-of-type {\n",
       "        vertical-align: middle;\n",
       "    }\n",
       "\n",
       "    .dataframe tbody tr th {\n",
       "        vertical-align: top;\n",
       "    }\n",
       "\n",
       "    .dataframe thead th {\n",
       "        text-align: right;\n",
       "    }\n",
       "</style>\n",
       "<table border=\"1\" class=\"dataframe\">\n",
       "  <thead>\n",
       "    <tr style=\"text-align: right;\">\n",
       "      <th></th>\n",
       "      <th>id</th>\n",
       "      <th>main</th>\n",
       "      <th>description</th>\n",
       "      <th>icon</th>\n",
       "      <th>lon</th>\n",
       "      <th>lat</th>\n",
       "      <th>temp</th>\n",
       "      <th>feels_like</th>\n",
       "      <th>temp_min</th>\n",
       "      <th>temp_max</th>\n",
       "      <th>...</th>\n",
       "      <th>main.grnd_level</th>\n",
       "      <th>wind.speed</th>\n",
       "      <th>wind.deg</th>\n",
       "      <th>wind.gust</th>\n",
       "      <th>clouds.all</th>\n",
       "      <th>sys.type</th>\n",
       "      <th>sys.id</th>\n",
       "      <th>sys.country</th>\n",
       "      <th>sys.sunrise</th>\n",
       "      <th>sys.sunset</th>\n",
       "    </tr>\n",
       "  </thead>\n",
       "  <tbody>\n",
       "    <tr>\n",
       "      <th>0</th>\n",
       "      <td>802.0</td>\n",
       "      <td>Clouds</td>\n",
       "      <td>scattered clouds</td>\n",
       "      <td>03n</td>\n",
       "      <td>NaN</td>\n",
       "      <td>NaN</td>\n",
       "      <td>NaN</td>\n",
       "      <td>NaN</td>\n",
       "      <td>NaN</td>\n",
       "      <td>NaN</td>\n",
       "      <td>...</td>\n",
       "      <td>NaN</td>\n",
       "      <td>NaN</td>\n",
       "      <td>NaN</td>\n",
       "      <td>NaN</td>\n",
       "      <td>NaN</td>\n",
       "      <td>NaN</td>\n",
       "      <td>NaN</td>\n",
       "      <td>None</td>\n",
       "      <td>NaN</td>\n",
       "      <td>NaN</td>\n",
       "    </tr>\n",
       "    <tr>\n",
       "      <th>1</th>\n",
       "      <td>NaN</td>\n",
       "      <td>None</td>\n",
       "      <td>None</td>\n",
       "      <td>None</td>\n",
       "      <td>-51.1306</td>\n",
       "      <td>-29.6783</td>\n",
       "      <td>NaN</td>\n",
       "      <td>NaN</td>\n",
       "      <td>NaN</td>\n",
       "      <td>NaN</td>\n",
       "      <td>...</td>\n",
       "      <td>NaN</td>\n",
       "      <td>NaN</td>\n",
       "      <td>NaN</td>\n",
       "      <td>NaN</td>\n",
       "      <td>NaN</td>\n",
       "      <td>NaN</td>\n",
       "      <td>NaN</td>\n",
       "      <td>None</td>\n",
       "      <td>NaN</td>\n",
       "      <td>NaN</td>\n",
       "    </tr>\n",
       "    <tr>\n",
       "      <th>2</th>\n",
       "      <td>NaN</td>\n",
       "      <td>None</td>\n",
       "      <td>None</td>\n",
       "      <td>None</td>\n",
       "      <td>NaN</td>\n",
       "      <td>NaN</td>\n",
       "      <td>289.14</td>\n",
       "      <td>288.94</td>\n",
       "      <td>288.7</td>\n",
       "      <td>290.23</td>\n",
       "      <td>...</td>\n",
       "      <td>NaN</td>\n",
       "      <td>NaN</td>\n",
       "      <td>NaN</td>\n",
       "      <td>NaN</td>\n",
       "      <td>NaN</td>\n",
       "      <td>NaN</td>\n",
       "      <td>NaN</td>\n",
       "      <td>None</td>\n",
       "      <td>NaN</td>\n",
       "      <td>NaN</td>\n",
       "    </tr>\n",
       "    <tr>\n",
       "      <th>3</th>\n",
       "      <td>3456068.0</td>\n",
       "      <td>None</td>\n",
       "      <td>None</td>\n",
       "      <td>None</td>\n",
       "      <td>NaN</td>\n",
       "      <td>NaN</td>\n",
       "      <td>NaN</td>\n",
       "      <td>NaN</td>\n",
       "      <td>NaN</td>\n",
       "      <td>NaN</td>\n",
       "      <td>...</td>\n",
       "      <td>1016.0</td>\n",
       "      <td>1.35</td>\n",
       "      <td>66.0</td>\n",
       "      <td>2.19</td>\n",
       "      <td>29.0</td>\n",
       "      <td>2.0</td>\n",
       "      <td>2020383.0</td>\n",
       "      <td>BR</td>\n",
       "      <td>1.697360e+09</td>\n",
       "      <td>1.697406e+09</td>\n",
       "    </tr>\n",
       "  </tbody>\n",
       "</table>\n",
       "<p>4 rows × 39 columns</p>\n",
       "</div>"
      ],
      "text/plain": [
       "          id    main       description  icon      lon      lat    temp  \\\n",
       "0      802.0  Clouds  scattered clouds   03n      NaN      NaN     NaN   \n",
       "1        NaN    None              None  None -51.1306 -29.6783     NaN   \n",
       "2        NaN    None              None  None      NaN      NaN  289.14   \n",
       "3  3456068.0    None              None  None      NaN      NaN     NaN   \n",
       "\n",
       "   feels_like  temp_min  temp_max  ...  main.grnd_level  wind.speed  wind.deg  \\\n",
       "0         NaN       NaN       NaN  ...              NaN         NaN       NaN   \n",
       "1         NaN       NaN       NaN  ...              NaN         NaN       NaN   \n",
       "2      288.94     288.7    290.23  ...              NaN         NaN       NaN   \n",
       "3         NaN       NaN       NaN  ...           1016.0        1.35      66.0   \n",
       "\n",
       "   wind.gust clouds.all  sys.type     sys.id  sys.country   sys.sunrise  \\\n",
       "0        NaN        NaN       NaN        NaN         None           NaN   \n",
       "1        NaN        NaN       NaN        NaN         None           NaN   \n",
       "2        NaN        NaN       NaN        NaN         None           NaN   \n",
       "3       2.19       29.0       2.0  2020383.0           BR  1.697360e+09   \n",
       "\n",
       "     sys.sunset  \n",
       "0           NaN  \n",
       "1           NaN  \n",
       "2           NaN  \n",
       "3  1.697406e+09  \n",
       "\n",
       "[4 rows x 39 columns]"
      ]
     },
     "execution_count": 35,
     "metadata": {},
     "output_type": "execute_result"
    }
   ],
   "source": [
    "df"
   ]
  }
 ],
 "metadata": {
  "kernelspec": {
   "display_name": "Python 3",
   "language": "python",
   "name": "python3"
  },
  "language_info": {
   "codemirror_mode": {
    "name": "ipython",
    "version": 3
   },
   "file_extension": ".py",
   "mimetype": "text/x-python",
   "name": "python",
   "nbconvert_exporter": "python",
   "pygments_lexer": "ipython3",
   "version": "3.11.1"
  },
  "orig_nbformat": 4
 },
 "nbformat": 4,
 "nbformat_minor": 2
}
