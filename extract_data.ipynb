{
 "cells": [
  {
   "cell_type": "code",
   "execution_count": 1,
   "metadata": {},
   "outputs": [],
   "source": [
    "import requests\n",
    "import pandas as pd"
   ]
  },
  {
   "cell_type": "code",
   "execution_count": 2,
   "metadata": {},
   "outputs": [
    {
     "name": "stdout",
     "output_type": "stream",
     "text": [
      "A chamada da API falhou. Código de status: 401\n"
     ]
    }
   ],
   "source": [
    "# Substitua \"{API key}\" pela sua chave de API real\n",
    "api_key = \"550d57361bde0d30b0dd389950c781ad\"\n",
    "\n",
    "# Latitude e longitude fictícias\n",
    "latitude = 33.44\n",
    "longitude = -94.04\n",
    "\n",
    "# Parâmetros da chamada de API\n",
    "params = {\n",
    "    \"lat\": latitude,\n",
    "    \"lon\": longitude,\n",
    "    \"exclude\": \"hourly,daily\",\n",
    "    \"appid\": api_key\n",
    "}\n",
    "\n",
    "# URL da API\n",
    "url = \"https://api.openweathermap.org/data/3.0/onecall\"\n",
    "\n",
    "# Fazendo a chamada da API\n",
    "response = requests.get(url, params=params)\n",
    "\n",
    "# Verificando se a chamada foi bem-sucedida\n",
    "if response.status_code == 200:\n",
    "    data = response.json()\n",
    "    # Aqui você pode manipular os dados da resposta conforme necessário\n",
    "    print(data)\n",
    "else:\n",
    "    print(\"A chamada da API falhou. Código de status:\", response.status_code)\n"
   ]
  },
  {
   "cell_type": "code",
   "execution_count": 6,
   "metadata": {},
   "outputs": [],
   "source": [
    "link2 = f\"https://api.openweathermap.org/data/2.5/weather?q=novo hamburgo,br&APPID=550d57361bde0d30b0dd389950c781ad\""
   ]
  },
  {
   "cell_type": "code",
   "execution_count": 3,
   "metadata": {},
   "outputs": [
    {
     "data": {
      "text/plain": [
       "'https://api.openweathermap.org/data/2.5/weather?q=novo hamburgo,br&APPID=550d57361bde0d30b0dd389950c781ad'"
      ]
     },
     "execution_count": 3,
     "metadata": {},
     "output_type": "execute_result"
    }
   ],
   "source": [
    "link2"
   ]
  },
  {
   "cell_type": "code",
   "execution_count": 7,
   "metadata": {},
   "outputs": [],
   "source": [
    "requisicao = requests.get(link2)"
   ]
  },
  {
   "cell_type": "code",
   "execution_count": 8,
   "metadata": {},
   "outputs": [
    {
     "data": {
      "text/plain": [
       "{'coord': {'lon': -51.1306, 'lat': -29.6783},\n",
       " 'weather': [{'id': 804,\n",
       "   'main': 'Clouds',\n",
       "   'description': 'overcast clouds',\n",
       "   'icon': '04n'}],\n",
       " 'base': 'stations',\n",
       " 'main': {'temp': 285.97,\n",
       "  'feels_like': 285.55,\n",
       "  'temp_min': 285.37,\n",
       "  'temp_max': 286.94,\n",
       "  'pressure': 1021,\n",
       "  'humidity': 86,\n",
       "  'sea_level': 1021,\n",
       "  'grnd_level': 1016},\n",
       " 'visibility': 10000,\n",
       " 'wind': {'speed': 0.97, 'deg': 144, 'gust': 2.3},\n",
       " 'clouds': {'all': 97},\n",
       " 'dt': 1697177728,\n",
       " 'sys': {'type': 2,\n",
       "  'id': 2020383,\n",
       "  'country': 'BR',\n",
       "  'sunrise': 1697186946,\n",
       "  'sunset': 1697232733},\n",
       " 'timezone': -10800,\n",
       " 'id': 3456068,\n",
       " 'name': 'Novo Hamburgo',\n",
       " 'cod': 200}"
      ]
     },
     "execution_count": 8,
     "metadata": {},
     "output_type": "execute_result"
    }
   ],
   "source": [
    "requisicao.json()"
   ]
  },
  {
   "cell_type": "code",
   "execution_count": 5,
   "metadata": {},
   "outputs": [
    {
     "data": {
      "text/plain": [
       "{'coord': {'lon': -51.1306, 'lat': -29.6783},\n",
       " 'weather': [{'id': 804,\n",
       "   'main': 'Clouds',\n",
       "   'description': 'overcast clouds',\n",
       "   'icon': '04n'}],\n",
       " 'base': 'stations',\n",
       " 'main': {'temp': 289.9,\n",
       "  'feels_like': 290.08,\n",
       "  'temp_min': 289.66,\n",
       "  'temp_max': 291.34,\n",
       "  'pressure': 1009,\n",
       "  'humidity': 94,\n",
       "  'sea_level': 1009,\n",
       "  'grnd_level': 1005},\n",
       " 'visibility': 9549,\n",
       " 'wind': {'speed': 0.98, 'deg': 212, 'gust': 3.5},\n",
       " 'clouds': {'all': 100},\n",
       " 'dt': 1696462388,\n",
       " 'sys': {'type': 2,\n",
       "  'id': 2020383,\n",
       "  'country': 'BR',\n",
       "  'sunrise': 1696409976,\n",
       "  'sunset': 1696454810},\n",
       " 'timezone': -10800,\n",
       " 'id': 3456068,\n",
       " 'name': 'Novo Hamburgo',\n",
       " 'cod': 200}"
      ]
     },
     "execution_count": 5,
     "metadata": {},
     "output_type": "execute_result"
    }
   ],
   "source": [
    "requisicao.json()"
   ]
  }
 ],
 "metadata": {
  "kernelspec": {
   "display_name": "Python 3",
   "language": "python",
   "name": "python3"
  },
  "language_info": {
   "codemirror_mode": {
    "name": "ipython",
    "version": 3
   },
   "file_extension": ".py",
   "mimetype": "text/x-python",
   "name": "python",
   "nbconvert_exporter": "python",
   "pygments_lexer": "ipython3",
   "version": "3.11.1"
  },
  "orig_nbformat": 4
 },
 "nbformat": 4,
 "nbformat_minor": 2
}
