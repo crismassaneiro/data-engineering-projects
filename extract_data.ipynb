{
 "cells": [
  {
   "cell_type": "code",
   "execution_count": 6,
   "metadata": {},
   "outputs": [],
   "source": [
    "import requests\n",
    "import pandas as pd"
   ]
  },
  {
   "cell_type": "code",
   "execution_count": 7,
   "metadata": {},
   "outputs": [
    {
     "name": "stdout",
     "output_type": "stream",
     "text": [
      "A chamada da API falhou. Código de status: 401\n"
     ]
    }
   ],
   "source": [
    "# Substitua \"{API key}\" pela sua chave de API real\n",
    "api_key = \"550d57361bde0d30b0dd389950c781ad\"\n",
    "\n",
    "# Latitude e longitude fictícias\n",
    "latitude = 33.44\n",
    "longitude = -94.04\n",
    "\n",
    "# Parâmetros da chamada de API\n",
    "params = {\n",
    "    \"lat\": latitude,\n",
    "    \"lon\": longitude,\n",
    "    \"exclude\": \"hourly,daily\",\n",
    "    \"appid\": api_key\n",
    "}\n",
    "\n",
    "# URL da API\n",
    "url = \"https://api.openweathermap.org/data/3.0/onecall\"\n",
    "\n",
    "# Fazendo a chamada da API\n",
    "response = requests.get(url, params=params)\n",
    "\n",
    "# Verificando se a chamada foi bem-sucedida\n",
    "if response.status_code == 200:\n",
    "    data = response.json()\n",
    "    # Aqui você pode manipular os dados da resposta conforme necessário\n",
    "    print(data)\n",
    "else:\n",
    "    print(\"A chamada da API falhou. Código de status:\", response.status_code)\n"
   ]
  },
  {
   "cell_type": "code",
   "execution_count": 8,
   "metadata": {},
   "outputs": [],
   "source": [
    "link2 = f\"https://api.openweathermap.org/data/2.5/weather?q=novo hamburgo,br&APPID=550d57361bde0d30b0dd389950c781ad\""
   ]
  },
  {
   "cell_type": "code",
   "execution_count": 9,
   "metadata": {},
   "outputs": [
    {
     "data": {
      "text/plain": [
       "'https://api.openweathermap.org/data/2.5/weather?q=novo hamburgo,br&APPID=550d57361bde0d30b0dd389950c781ad'"
      ]
     },
     "execution_count": 9,
     "metadata": {},
     "output_type": "execute_result"
    }
   ],
   "source": [
    "link2"
   ]
  },
  {
   "cell_type": "code",
   "execution_count": 10,
   "metadata": {},
   "outputs": [],
   "source": [
    "requisicao = requests.get(link2)"
   ]
  },
  {
   "cell_type": "code",
   "execution_count": 11,
   "metadata": {},
   "outputs": [
    {
     "data": {
      "text/plain": [
       "{'coord': {'lon': -51.1306, 'lat': -29.6783},\n",
       " 'weather': [{'id': 800,\n",
       "   'main': 'Clear',\n",
       "   'description': 'clear sky',\n",
       "   'icon': '01n'}],\n",
       " 'base': 'stations',\n",
       " 'main': {'temp': 284.93,\n",
       "  'feels_like': 284.46,\n",
       "  'temp_min': 284.51,\n",
       "  'temp_max': 286.34,\n",
       "  'pressure': 1023,\n",
       "  'humidity': 88,\n",
       "  'sea_level': 1023,\n",
       "  'grnd_level': 1019},\n",
       " 'visibility': 10000,\n",
       " 'wind': {'speed': 1.23, 'deg': 66, 'gust': 1.94},\n",
       " 'clouds': {'all': 3},\n",
       " 'dt': 1697260227,\n",
       " 'sys': {'type': 2,\n",
       "  'id': 2001569,\n",
       "  'country': 'BR',\n",
       "  'sunrise': 1697273279,\n",
       "  'sunset': 1697319171},\n",
       " 'timezone': -10800,\n",
       " 'id': 3456068,\n",
       " 'name': 'Novo Hamburgo',\n",
       " 'cod': 200}"
      ]
     },
     "execution_count": 11,
     "metadata": {},
     "output_type": "execute_result"
    }
   ],
   "source": [
    "requisicao.json()"
   ]
  },
  {
   "cell_type": "code",
   "execution_count": 12,
   "metadata": {},
   "outputs": [
    {
     "data": {
      "text/plain": [
       "{'coord': {'lon': -51.1306, 'lat': -29.6783},\n",
       " 'weather': [{'id': 800,\n",
       "   'main': 'Clear',\n",
       "   'description': 'clear sky',\n",
       "   'icon': '01n'}],\n",
       " 'base': 'stations',\n",
       " 'main': {'temp': 284.93,\n",
       "  'feels_like': 284.46,\n",
       "  'temp_min': 284.51,\n",
       "  'temp_max': 286.34,\n",
       "  'pressure': 1023,\n",
       "  'humidity': 88,\n",
       "  'sea_level': 1023,\n",
       "  'grnd_level': 1019},\n",
       " 'visibility': 10000,\n",
       " 'wind': {'speed': 1.23, 'deg': 66, 'gust': 1.94},\n",
       " 'clouds': {'all': 3},\n",
       " 'dt': 1697260227,\n",
       " 'sys': {'type': 2,\n",
       "  'id': 2001569,\n",
       "  'country': 'BR',\n",
       "  'sunrise': 1697273279,\n",
       "  'sunset': 1697319171},\n",
       " 'timezone': -10800,\n",
       " 'id': 3456068,\n",
       " 'name': 'Novo Hamburgo',\n",
       " 'cod': 200}"
      ]
     },
     "execution_count": 12,
     "metadata": {},
     "output_type": "execute_result"
    }
   ],
   "source": [
    "requisicao.json()"
   ]
  },
  {
   "cell_type": "code",
   "execution_count": 22,
   "metadata": {},
   "outputs": [],
   "source": [
    "df = requisicao.json()\n",
    "df = pd.json_normalize(df)\n",
    "df = pd.DataFrame(df)"
   ]
  },
  {
   "cell_type": "code",
   "execution_count": 23,
   "metadata": {},
   "outputs": [
    {
     "data": {
      "text/html": [
       "<div>\n",
       "<style scoped>\n",
       "    .dataframe tbody tr th:only-of-type {\n",
       "        vertical-align: middle;\n",
       "    }\n",
       "\n",
       "    .dataframe tbody tr th {\n",
       "        vertical-align: top;\n",
       "    }\n",
       "\n",
       "    .dataframe thead th {\n",
       "        text-align: right;\n",
       "    }\n",
       "</style>\n",
       "<table border=\"1\" class=\"dataframe\">\n",
       "  <thead>\n",
       "    <tr style=\"text-align: right;\">\n",
       "      <th></th>\n",
       "      <th>weather</th>\n",
       "      <th>base</th>\n",
       "      <th>visibility</th>\n",
       "      <th>dt</th>\n",
       "      <th>timezone</th>\n",
       "      <th>id</th>\n",
       "      <th>name</th>\n",
       "      <th>cod</th>\n",
       "      <th>coord.lon</th>\n",
       "      <th>coord.lat</th>\n",
       "      <th>...</th>\n",
       "      <th>main.grnd_level</th>\n",
       "      <th>wind.speed</th>\n",
       "      <th>wind.deg</th>\n",
       "      <th>wind.gust</th>\n",
       "      <th>clouds.all</th>\n",
       "      <th>sys.type</th>\n",
       "      <th>sys.id</th>\n",
       "      <th>sys.country</th>\n",
       "      <th>sys.sunrise</th>\n",
       "      <th>sys.sunset</th>\n",
       "    </tr>\n",
       "  </thead>\n",
       "  <tbody>\n",
       "    <tr>\n",
       "      <th>0</th>\n",
       "      <td>[{'id': 800, 'main': 'Clear', 'description': '...</td>\n",
       "      <td>stations</td>\n",
       "      <td>10000</td>\n",
       "      <td>1697260227</td>\n",
       "      <td>-10800</td>\n",
       "      <td>3456068</td>\n",
       "      <td>Novo Hamburgo</td>\n",
       "      <td>200</td>\n",
       "      <td>-51.1306</td>\n",
       "      <td>-29.6783</td>\n",
       "      <td>...</td>\n",
       "      <td>1019</td>\n",
       "      <td>1.23</td>\n",
       "      <td>66</td>\n",
       "      <td>1.94</td>\n",
       "      <td>3</td>\n",
       "      <td>2</td>\n",
       "      <td>2001569</td>\n",
       "      <td>BR</td>\n",
       "      <td>1697273279</td>\n",
       "      <td>1697319171</td>\n",
       "    </tr>\n",
       "  </tbody>\n",
       "</table>\n",
       "<p>1 rows × 27 columns</p>\n",
       "</div>"
      ],
      "text/plain": [
       "                                             weather      base  visibility  \\\n",
       "0  [{'id': 800, 'main': 'Clear', 'description': '...  stations       10000   \n",
       "\n",
       "           dt  timezone       id           name  cod  coord.lon  coord.lat  \\\n",
       "0  1697260227    -10800  3456068  Novo Hamburgo  200   -51.1306   -29.6783   \n",
       "\n",
       "   ...  main.grnd_level  wind.speed  wind.deg  wind.gust  clouds.all  \\\n",
       "0  ...             1019        1.23        66       1.94           3   \n",
       "\n",
       "   sys.type   sys.id  sys.country  sys.sunrise  sys.sunset  \n",
       "0         2  2001569           BR   1697273279  1697319171  \n",
       "\n",
       "[1 rows x 27 columns]"
      ]
     },
     "execution_count": 23,
     "metadata": {},
     "output_type": "execute_result"
    }
   ],
   "source": [
    "df"
   ]
  },
  {
   "cell_type": "code",
   "execution_count": null,
   "metadata": {},
   "outputs": [],
   "source": [
    "#Salvando na no S3"
   ]
  }
 ],
 "metadata": {
  "kernelspec": {
   "display_name": "Python 3",
   "language": "python",
   "name": "python3"
  },
  "language_info": {
   "codemirror_mode": {
    "name": "ipython",
    "version": 3
   },
   "file_extension": ".py",
   "mimetype": "text/x-python",
   "name": "python",
   "nbconvert_exporter": "python",
   "pygments_lexer": "ipython3",
   "version": "3.11.1"
  },
  "orig_nbformat": 4
 },
 "nbformat": 4,
 "nbformat_minor": 2
}
