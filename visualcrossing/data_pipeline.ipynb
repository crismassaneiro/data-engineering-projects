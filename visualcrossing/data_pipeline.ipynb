{
 "cells": [
  {
   "cell_type": "code",
   "execution_count": null,
   "metadata": {},
   "outputs": [],
   "source": [
    "import os\n",
    "import pandas as pd\n",
    "from os.path import join\n",
    "from datetime import datetime, timedelta"
   ]
  },
  {
   "cell_type": "code",
   "execution_count": null,
   "metadata": {},
   "outputs": [],
   "source": [
    "# intervalo de datas\n",
    "data_inicio = datetime.today()\n",
    "data_fim = data_inicio + timedelta(days=7)\n",
    "\n",
    "# formatando as datas\n",
    "data_inicio = data_inicio.strftime('%Y-%m-%d')\n",
    "data_fim = data_fim.strftime('%Y-%m-%d')\n",
    "\n",
    "city = 'Boston'\n",
    "key = 'SUA_CHAVE'"
   ]
  },
  {
   "cell_type": "code",
   "execution_count": null,
   "metadata": {},
   "outputs": [],
   "source": [
    "URL = join(\"https://weather.visualcrossing.com/VisualCrossingWebServices/rest/services/timeline/\",\n",
    "          f\"{city}/{data_inicio}/{data_fim}?unitGroup=metric&include=days&key={key}&contentType=csv\")"
   ]
  },
  {
   "cell_type": "code",
   "execution_count": null,
   "metadata": {},
   "outputs": [],
   "source": [
    "dados = pd.read_csv(URL)\n",
    "print(dados.head())"
   ]
  },
  {
   "cell_type": "code",
   "execution_count": null,
   "metadata": {},
   "outputs": [],
   "source": [
    "file_path = f'/home/millenagena/Documents/datapipeline/semana={data_inicio}/'\n",
    "os.mkdir(file_path)"
   ]
  },
  {
   "cell_type": "code",
   "execution_count": null,
   "metadata": {},
   "outputs": [],
   "source": [
    "dados.to_csv(file_path + 'dados_brutos.csv')\n",
    "dados[['datetime','tempmin', 'temp', 'tempmax']].to_csv(file_path + 'temperaturas.csv')\n",
    "dados[['datetime', 'description', 'icon']].to_csv(file_path + 'condicoes.csv')"
   ]
  }
 ],
 "metadata": {
  "language_info": {
   "name": "python"
  }
 },
 "nbformat": 4,
 "nbformat_minor": 2
}
